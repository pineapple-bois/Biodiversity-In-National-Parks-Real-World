{
 "cells": [
  {
   "cell_type": "markdown",
   "source": [
    "# Biodiversity in U.S. National Parks"
   ],
   "metadata": {
    "collapsed": false
   }
  },
  {
   "cell_type": "markdown",
   "source": [
    "## North American Birds of Prey"
   ],
   "metadata": {
    "collapsed": false
   }
  },
  {
   "cell_type": "code",
   "execution_count": 114,
   "metadata": {
    "collapsed": true
   },
   "outputs": [],
   "source": [
    "# Importing the necessary modules\n",
    "import pandas as pd\n",
    "import matplotlib.pyplot as plt\n",
    "import matplotlib.patches as mpatches\n",
    "import seaborn as sns\n",
    "import numpy as np"
   ]
  },
  {
   "cell_type": "markdown",
   "source": [
    "## Loading in the data"
   ],
   "metadata": {
    "collapsed": false
   }
  },
  {
   "cell_type": "markdown",
   "source": [
    "# `parks.csv`"
   ],
   "metadata": {
    "collapsed": false
   }
  },
  {
   "cell_type": "code",
   "execution_count": 115,
   "outputs": [
    {
     "name": "stdout",
     "output_type": "stream",
     "text": [
      "Columns: ['Park Code', 'Park Name', 'State', 'Acres', 'Latitude', 'Longitude']\n",
      "\n",
      "(Rows, Columns): (56, 6)\n"
     ]
    },
    {
     "data": {
      "text/plain": "  Park Code               Park Name State   Acres  Latitude  Longitude\n0      ACAD    Acadia National Park    ME   47390     44.35     -68.21\n1      ARCH    Arches National Park    UT   76519     38.68    -109.57\n2      BADL  Badlands National Park    SD  242756     43.75    -102.50\n3      BIBE  Big Bend National Park    TX  801163     29.25    -103.25\n4      BISC  Biscayne National Park    FL  172924     25.65     -80.08",
      "text/html": "<div>\n<style scoped>\n    .dataframe tbody tr th:only-of-type {\n        vertical-align: middle;\n    }\n\n    .dataframe tbody tr th {\n        vertical-align: top;\n    }\n\n    .dataframe thead th {\n        text-align: right;\n    }\n</style>\n<table border=\"1\" class=\"dataframe\">\n  <thead>\n    <tr style=\"text-align: right;\">\n      <th></th>\n      <th>Park Code</th>\n      <th>Park Name</th>\n      <th>State</th>\n      <th>Acres</th>\n      <th>Latitude</th>\n      <th>Longitude</th>\n    </tr>\n  </thead>\n  <tbody>\n    <tr>\n      <th>0</th>\n      <td>ACAD</td>\n      <td>Acadia National Park</td>\n      <td>ME</td>\n      <td>47390</td>\n      <td>44.35</td>\n      <td>-68.21</td>\n    </tr>\n    <tr>\n      <th>1</th>\n      <td>ARCH</td>\n      <td>Arches National Park</td>\n      <td>UT</td>\n      <td>76519</td>\n      <td>38.68</td>\n      <td>-109.57</td>\n    </tr>\n    <tr>\n      <th>2</th>\n      <td>BADL</td>\n      <td>Badlands National Park</td>\n      <td>SD</td>\n      <td>242756</td>\n      <td>43.75</td>\n      <td>-102.50</td>\n    </tr>\n    <tr>\n      <th>3</th>\n      <td>BIBE</td>\n      <td>Big Bend National Park</td>\n      <td>TX</td>\n      <td>801163</td>\n      <td>29.25</td>\n      <td>-103.25</td>\n    </tr>\n    <tr>\n      <th>4</th>\n      <td>BISC</td>\n      <td>Biscayne National Park</td>\n      <td>FL</td>\n      <td>172924</td>\n      <td>25.65</td>\n      <td>-80.08</td>\n    </tr>\n  </tbody>\n</table>\n</div>"
     },
     "execution_count": 115,
     "metadata": {},
     "output_type": "execute_result"
    }
   ],
   "source": [
    "parks_data = pd.read_csv(\"parks.csv\")\n",
    "print(f\"Columns: {parks_data.columns.tolist()}\\n\")\n",
    "print(f\"(Rows, Columns): {parks_data.shape}\")\n",
    "parks_data.head()"
   ],
   "metadata": {
    "collapsed": false
   }
  },
  {
   "cell_type": "code",
   "execution_count": 116,
   "outputs": [],
   "source": [
    "parks_data.columns = [col.lower().replace(\" \", \"_\") for col in parks_data.columns]"
   ],
   "metadata": {
    "collapsed": false
   }
  },
  {
   "cell_type": "markdown",
   "source": [
    "#### Creating a list of the Southwestern states.\n",
    "\n",
    "Arizona, California, Colorado, Nevada, New Mexico, Oklahoma, Texas, Utah"
   ],
   "metadata": {
    "collapsed": false
   }
  },
  {
   "cell_type": "code",
   "execution_count": 117,
   "outputs": [],
   "source": [
    "sw_states_list = [\"AZ\", \"CA\", \"CO\", \"NV\", \"NM\", \"OK\", \"TX\", \"UT\"]"
   ],
   "metadata": {
    "collapsed": false
   }
  },
  {
   "cell_type": "code",
   "execution_count": 118,
   "outputs": [
    {
     "data": {
      "text/plain": "   park_code                       park_name state    acres  latitude  \\\n22      GRCA      Grand Canyon National Park    AZ  1217403     36.06   \n42      PEFO  Petrified Forest National Park    AZ    93533     35.07   \n46      SAGU           Saguaro National Park    AZ    91440     32.25   \n10      CHIS   Channel Islands National Park    CA   249561     34.01   \n31      JOTR       Joshua Tree National Park    CA   789745     33.79   \n\n    longitude  \n22    -112.14  \n42    -109.78  \n46    -110.50  \n10    -119.42  \n31    -115.90  ",
      "text/html": "<div>\n<style scoped>\n    .dataframe tbody tr th:only-of-type {\n        vertical-align: middle;\n    }\n\n    .dataframe tbody tr th {\n        vertical-align: top;\n    }\n\n    .dataframe thead th {\n        text-align: right;\n    }\n</style>\n<table border=\"1\" class=\"dataframe\">\n  <thead>\n    <tr style=\"text-align: right;\">\n      <th></th>\n      <th>park_code</th>\n      <th>park_name</th>\n      <th>state</th>\n      <th>acres</th>\n      <th>latitude</th>\n      <th>longitude</th>\n    </tr>\n  </thead>\n  <tbody>\n    <tr>\n      <th>22</th>\n      <td>GRCA</td>\n      <td>Grand Canyon National Park</td>\n      <td>AZ</td>\n      <td>1217403</td>\n      <td>36.06</td>\n      <td>-112.14</td>\n    </tr>\n    <tr>\n      <th>42</th>\n      <td>PEFO</td>\n      <td>Petrified Forest National Park</td>\n      <td>AZ</td>\n      <td>93533</td>\n      <td>35.07</td>\n      <td>-109.78</td>\n    </tr>\n    <tr>\n      <th>46</th>\n      <td>SAGU</td>\n      <td>Saguaro National Park</td>\n      <td>AZ</td>\n      <td>91440</td>\n      <td>32.25</td>\n      <td>-110.50</td>\n    </tr>\n    <tr>\n      <th>10</th>\n      <td>CHIS</td>\n      <td>Channel Islands National Park</td>\n      <td>CA</td>\n      <td>249561</td>\n      <td>34.01</td>\n      <td>-119.42</td>\n    </tr>\n    <tr>\n      <th>31</th>\n      <td>JOTR</td>\n      <td>Joshua Tree National Park</td>\n      <td>CA</td>\n      <td>789745</td>\n      <td>33.79</td>\n      <td>-115.90</td>\n    </tr>\n  </tbody>\n</table>\n</div>"
     },
     "execution_count": 118,
     "metadata": {},
     "output_type": "execute_result"
    }
   ],
   "source": [
    "sw_data = pd.DataFrame(columns=parks_data.columns)\n",
    "# iterate through the list of states\n",
    "for state in sw_states_list:\n",
    "    # is state in column, 'State'?\n",
    "    match = parks_data[parks_data['state'] == state]\n",
    "    # Append matching states\n",
    "    sw_data = pd.concat([sw_data, match])\n",
    "\n",
    "sw_data.head()"
   ],
   "metadata": {
    "collapsed": false
   }
  },
  {
   "cell_type": "code",
   "execution_count": 119,
   "outputs": [
    {
     "name": "stdout",
     "output_type": "stream",
     "text": [
      "We have 23 parks: \n",
      "\n",
      "['Grand Canyon National Park', 'Petrified Forest National Park', 'Saguaro National Park', 'Channel Islands National Park', 'Joshua Tree National Park', 'Lassen Volcanic National Park', 'Pinnacles National Park', 'Redwood National Park', 'Sequoia and Kings Canyon National Parks', 'Yosemite National Park', 'Black Canyon of the Gunnison National Park', 'Great Sand Dunes National Park and Preserve', 'Mesa Verde National Park', 'Rocky Mountain National Park', 'Great Basin National Park', 'Carlsbad Caverns National Park', 'Big Bend National Park', 'Guadalupe Mountains National Park', 'Arches National Park', 'Bryce Canyon National Park', 'Canyonlands National Park', 'Capitol Reef National Park', 'Zion National Park']\n"
     ]
    }
   ],
   "source": [
    "sw_parks_list = sw_data['park_name'].unique().tolist()\n",
    "print(f\"We have {len(sw_parks_list)} parks: \\n\\n{sw_parks_list}\")"
   ],
   "metadata": {
    "collapsed": false
   }
  },
  {
   "cell_type": "markdown",
   "source": [
    "Useful to save a `sw_parks_list` variable for later"
   ],
   "metadata": {
    "collapsed": false
   }
  },
  {
   "cell_type": "markdown",
   "source": [
    "Create seperate Dataframes for each state $\\in$ `sw_states_list`"
   ],
   "metadata": {
    "collapsed": false
   }
  },
  {
   "cell_type": "code",
   "execution_count": 120,
   "outputs": [
    {
     "name": "stdout",
     "output_type": "stream",
     "text": [
      "\n",
      "AZ:\n",
      "Shape: (3, 6)\n",
      "\n",
      "CA:\n",
      "Shape: (7, 6)\n",
      "\n",
      "CO:\n",
      "Shape: (4, 6)\n",
      "\n",
      "NV:\n",
      "Shape: (1, 6)\n",
      "\n",
      "NM:\n",
      "Shape: (1, 6)\n",
      "\n",
      "OK:\n",
      "Shape: (0, 6)\n",
      "\n",
      "TX:\n",
      "Shape: (2, 6)\n",
      "\n",
      "UT:\n",
      "Shape: (5, 6)\n"
     ]
    }
   ],
   "source": [
    "d = {}\n",
    "for state in sw_states_list:\n",
    "    d[state] = pd.DataFrame(sw_data[sw_data['state'] == state])\n",
    "\n",
    "for i in range(0, len(sw_states_list)):\n",
    "    print(f\"\\n{sw_states_list[i]}:\\nShape: {d[sw_states_list[i]].shape}\")"
   ],
   "metadata": {
    "collapsed": false
   }
  },
  {
   "cell_type": "code",
   "execution_count": 121,
   "outputs": [
    {
     "data": {
      "text/plain": "   park_code                                park_name state   acres  latitude  \\\n10      CHIS            Channel Islands National Park    CA  249561     34.01   \n31      JOTR                Joshua Tree National Park    CA  789745     33.79   \n36      LAVO            Lassen Volcanic National Park    CA  106372     40.49   \n43      PINN                  Pinnacles National Park    CA   26606     36.48   \n44      REDW                    Redwood National Park    CA  112512     41.30   \n47      SEKI  Sequoia and Kings Canyon National Parks    CA  865952     36.43   \n54      YOSE                   Yosemite National Park    CA  761266     37.83   \n\n    longitude  \n10    -119.42  \n31    -115.90  \n36    -121.51  \n43    -121.16  \n44    -124.00  \n47    -118.68  \n54    -119.50  ",
      "text/html": "<div>\n<style scoped>\n    .dataframe tbody tr th:only-of-type {\n        vertical-align: middle;\n    }\n\n    .dataframe tbody tr th {\n        vertical-align: top;\n    }\n\n    .dataframe thead th {\n        text-align: right;\n    }\n</style>\n<table border=\"1\" class=\"dataframe\">\n  <thead>\n    <tr style=\"text-align: right;\">\n      <th></th>\n      <th>park_code</th>\n      <th>park_name</th>\n      <th>state</th>\n      <th>acres</th>\n      <th>latitude</th>\n      <th>longitude</th>\n    </tr>\n  </thead>\n  <tbody>\n    <tr>\n      <th>10</th>\n      <td>CHIS</td>\n      <td>Channel Islands National Park</td>\n      <td>CA</td>\n      <td>249561</td>\n      <td>34.01</td>\n      <td>-119.42</td>\n    </tr>\n    <tr>\n      <th>31</th>\n      <td>JOTR</td>\n      <td>Joshua Tree National Park</td>\n      <td>CA</td>\n      <td>789745</td>\n      <td>33.79</td>\n      <td>-115.90</td>\n    </tr>\n    <tr>\n      <th>36</th>\n      <td>LAVO</td>\n      <td>Lassen Volcanic National Park</td>\n      <td>CA</td>\n      <td>106372</td>\n      <td>40.49</td>\n      <td>-121.51</td>\n    </tr>\n    <tr>\n      <th>43</th>\n      <td>PINN</td>\n      <td>Pinnacles National Park</td>\n      <td>CA</td>\n      <td>26606</td>\n      <td>36.48</td>\n      <td>-121.16</td>\n    </tr>\n    <tr>\n      <th>44</th>\n      <td>REDW</td>\n      <td>Redwood National Park</td>\n      <td>CA</td>\n      <td>112512</td>\n      <td>41.30</td>\n      <td>-124.00</td>\n    </tr>\n    <tr>\n      <th>47</th>\n      <td>SEKI</td>\n      <td>Sequoia and Kings Canyon National Parks</td>\n      <td>CA</td>\n      <td>865952</td>\n      <td>36.43</td>\n      <td>-118.68</td>\n    </tr>\n    <tr>\n      <th>54</th>\n      <td>YOSE</td>\n      <td>Yosemite National Park</td>\n      <td>CA</td>\n      <td>761266</td>\n      <td>37.83</td>\n      <td>-119.50</td>\n    </tr>\n  </tbody>\n</table>\n</div>"
     },
     "execution_count": 121,
     "metadata": {},
     "output_type": "execute_result"
    }
   ],
   "source": [
    "# We can call DataFrames for each state using below syntax\n",
    "# California:\n",
    "d['CA']"
   ],
   "metadata": {
    "collapsed": false
   }
  },
  {
   "cell_type": "markdown",
   "source": [
    "Seven isn't enough...\n",
    "Probably just keep all the parks. Fuck it!"
   ],
   "metadata": {
    "collapsed": false
   }
  },
  {
   "cell_type": "markdown",
   "source": [
    "On a map to get an idea of where these parks are"
   ],
   "metadata": {
    "collapsed": false
   }
  },
  {
   "cell_type": "markdown",
   "source": [
    "<img src=\"Images/California_Coast.png\"/>"
   ],
   "metadata": {
    "collapsed": false
   }
  },
  {
   "cell_type": "markdown",
   "source": [
    "<img src=\"Images/Desert.png\"/>"
   ],
   "metadata": {
    "collapsed": false
   }
  },
  {
   "cell_type": "markdown",
   "source": [
    "<img src=\"Images/Area_Baja.png\"/>"
   ],
   "metadata": {
    "collapsed": false
   }
  },
  {
   "cell_type": "markdown",
   "source": [
    "[AZ, CO, NV, UT](https://earth.google.com/web/search/Zion+National+Park,+Utah,+USA/@35.13603563,-108.8328106,1267.20627283a,2369647.23679662d,35y,0h,0t,0r/data=CigiJgokCanCP9QYRUNAEZ9uI2M12UJAGZSefyJpnlvAIQD8Bzs89FvA)\n",
    "[CA](https://earth.google.com/web/search/Zion+National+Park,+Utah,+USA/@37.45209159,-120.51900674,-23.85042741a,2315631.43578798d,35y,0h,0t,0r/data=CigiJgokCanCP9QYRUNAEZ9uI2M12UJAGZSefyJpnlvAIQD8Bzs89FvA)\n",
    "[Baja, TX](https://earth.google.com/web/search/Zion+National+Park,+Utah,+USA/@37.45209159,-120.51900674,-23.85042741a,2315631.43578798d,35y,0h,0t,0r/data=CigiJgokCanCP9QYRUNAEZ9uI2M12UJAGZSefyJpnlvAIQD8Bzs89FvA)"
   ],
   "metadata": {
    "collapsed": false
   }
  },
  {
   "cell_type": "markdown",
   "source": [
    "---\n",
    "\n",
    "# `species.csv`"
   ],
   "metadata": {
    "collapsed": false
   }
  },
  {
   "cell_type": "code",
   "execution_count": 122,
   "outputs": [
    {
     "name": "stdout",
     "output_type": "stream",
     "text": [
      "(Rows, Columns): (119248, 14)\n",
      "\n",
      "Type of data:\n",
      "\n",
      "Species ID             object\n",
      "Park Name              object\n",
      "Category               object\n",
      "Order                  object\n",
      "Family                 object\n",
      "Scientific Name        object\n",
      "Common Names           object\n",
      "Record Status          object\n",
      "Occurrence             object\n",
      "Nativeness             object\n",
      "Abundance              object\n",
      "Seasonality            object\n",
      "Conservation Status    object\n",
      "Unnamed: 13            object\n",
      "dtype: object\n",
      "\n",
      "The number of unique values:\n",
      "\n",
      "Species ID             119248\n",
      "Park Name                  56\n",
      "Category                   14\n",
      "Order                     554\n",
      "Family                   2332\n",
      "Scientific Name         46022\n",
      "Common Names            35826\n",
      "Record Status              54\n",
      "Occurrence                  7\n",
      "Nativeness                  5\n",
      "Abundance                   8\n",
      "Seasonality                24\n",
      "Conservation Status        11\n",
      "Unnamed: 13                 3\n",
      "dtype: int64\n"
     ]
    },
    {
     "name": "stderr",
     "output_type": "stream",
     "text": [
      "/var/folders/s9/z74lxq2n7d9ct45y9_ffymd00000gn/T/ipykernel_47642/31902483.py:1: DtypeWarning: Columns (13) have mixed types. Specify dtype option on import or set low_memory=False.\n",
      "  species_data = pd.read_csv('species.csv')\n"
     ]
    },
    {
     "data": {
      "text/plain": "  Species ID             Park Name Category         Order    Family  \\\n0  ACAD-1000  Acadia National Park   Mammal  Artiodactyla  Cervidae   \n1  ACAD-1001  Acadia National Park   Mammal  Artiodactyla  Cervidae   \n2  ACAD-1002  Acadia National Park   Mammal     Carnivora   Canidae   \n3  ACAD-1003  Acadia National Park   Mammal     Carnivora   Canidae   \n4  ACAD-1004  Acadia National Park   Mammal     Carnivora   Canidae   \n\n          Scientific Name                                       Common Names  \\\n0             Alces alces                                              Moose   \n1  Odocoileus virginianus  Northern White-Tailed Deer, Virginia Deer, Whi...   \n2           Canis latrans                             Coyote, Eastern Coyote   \n3             Canis lupus        Eastern Timber Wolf, Gray Wolf, Timber Wolf   \n4           Vulpes vulpes  Black Fox, Cross Fox, Eastern Red Fox, Fox, Re...   \n\n  Record Status     Occurrence  Nativeness Abundance Seasonality  \\\n0      Approved        Present      Native      Rare    Resident   \n1      Approved        Present      Native  Abundant         NaN   \n2      Approved        Present  Not Native    Common         NaN   \n3      Approved  Not Confirmed      Native       NaN         NaN   \n4      Approved        Present     Unknown    Common     Breeder   \n\n  Conservation Status Unnamed: 13  \n0                 NaN         NaN  \n1                 NaN         NaN  \n2  Species of Concern         NaN  \n3          Endangered         NaN  \n4                 NaN         NaN  ",
      "text/html": "<div>\n<style scoped>\n    .dataframe tbody tr th:only-of-type {\n        vertical-align: middle;\n    }\n\n    .dataframe tbody tr th {\n        vertical-align: top;\n    }\n\n    .dataframe thead th {\n        text-align: right;\n    }\n</style>\n<table border=\"1\" class=\"dataframe\">\n  <thead>\n    <tr style=\"text-align: right;\">\n      <th></th>\n      <th>Species ID</th>\n      <th>Park Name</th>\n      <th>Category</th>\n      <th>Order</th>\n      <th>Family</th>\n      <th>Scientific Name</th>\n      <th>Common Names</th>\n      <th>Record Status</th>\n      <th>Occurrence</th>\n      <th>Nativeness</th>\n      <th>Abundance</th>\n      <th>Seasonality</th>\n      <th>Conservation Status</th>\n      <th>Unnamed: 13</th>\n    </tr>\n  </thead>\n  <tbody>\n    <tr>\n      <th>0</th>\n      <td>ACAD-1000</td>\n      <td>Acadia National Park</td>\n      <td>Mammal</td>\n      <td>Artiodactyla</td>\n      <td>Cervidae</td>\n      <td>Alces alces</td>\n      <td>Moose</td>\n      <td>Approved</td>\n      <td>Present</td>\n      <td>Native</td>\n      <td>Rare</td>\n      <td>Resident</td>\n      <td>NaN</td>\n      <td>NaN</td>\n    </tr>\n    <tr>\n      <th>1</th>\n      <td>ACAD-1001</td>\n      <td>Acadia National Park</td>\n      <td>Mammal</td>\n      <td>Artiodactyla</td>\n      <td>Cervidae</td>\n      <td>Odocoileus virginianus</td>\n      <td>Northern White-Tailed Deer, Virginia Deer, Whi...</td>\n      <td>Approved</td>\n      <td>Present</td>\n      <td>Native</td>\n      <td>Abundant</td>\n      <td>NaN</td>\n      <td>NaN</td>\n      <td>NaN</td>\n    </tr>\n    <tr>\n      <th>2</th>\n      <td>ACAD-1002</td>\n      <td>Acadia National Park</td>\n      <td>Mammal</td>\n      <td>Carnivora</td>\n      <td>Canidae</td>\n      <td>Canis latrans</td>\n      <td>Coyote, Eastern Coyote</td>\n      <td>Approved</td>\n      <td>Present</td>\n      <td>Not Native</td>\n      <td>Common</td>\n      <td>NaN</td>\n      <td>Species of Concern</td>\n      <td>NaN</td>\n    </tr>\n    <tr>\n      <th>3</th>\n      <td>ACAD-1003</td>\n      <td>Acadia National Park</td>\n      <td>Mammal</td>\n      <td>Carnivora</td>\n      <td>Canidae</td>\n      <td>Canis lupus</td>\n      <td>Eastern Timber Wolf, Gray Wolf, Timber Wolf</td>\n      <td>Approved</td>\n      <td>Not Confirmed</td>\n      <td>Native</td>\n      <td>NaN</td>\n      <td>NaN</td>\n      <td>Endangered</td>\n      <td>NaN</td>\n    </tr>\n    <tr>\n      <th>4</th>\n      <td>ACAD-1004</td>\n      <td>Acadia National Park</td>\n      <td>Mammal</td>\n      <td>Carnivora</td>\n      <td>Canidae</td>\n      <td>Vulpes vulpes</td>\n      <td>Black Fox, Cross Fox, Eastern Red Fox, Fox, Re...</td>\n      <td>Approved</td>\n      <td>Present</td>\n      <td>Unknown</td>\n      <td>Common</td>\n      <td>Breeder</td>\n      <td>NaN</td>\n      <td>NaN</td>\n    </tr>\n  </tbody>\n</table>\n</div>"
     },
     "execution_count": 122,
     "metadata": {},
     "output_type": "execute_result"
    }
   ],
   "source": [
    "species_data = pd.read_csv('species.csv')\n",
    "print(f\"(Rows, Columns): {species_data.shape}\\n\")\n",
    "print(f\"Type of data:\\n\\n{species_data.dtypes}\\n\")\n",
    "print(f\"The number of unique values:\\n\\n{species_data.nunique()}\")\n",
    "species_data.head()"
   ],
   "metadata": {
    "collapsed": false
   }
  },
  {
   "cell_type": "code",
   "execution_count": 123,
   "outputs": [
    {
     "name": "stdout",
     "output_type": "stream",
     "text": [
      "Columns: ['species_id', 'park_name', 'category', 'order', 'family', 'scientific_name', 'common_names', 'record_status', 'occurrence', 'nativeness', 'abundance', 'seasonality', 'conservation_status', 'unnamed:_13']\n",
      "\n"
     ]
    }
   ],
   "source": [
    "species_data.columns = [col.lower().replace(\" \", \"_\") for col in species_data.columns]\n",
    "print(f\"Columns: {species_data.columns.tolist()}\\n\")"
   ],
   "metadata": {
    "collapsed": false
   }
  },
  {
   "cell_type": "markdown",
   "source": [
    "### Isolate Birds"
   ],
   "metadata": {
    "collapsed": false
   }
  },
  {
   "cell_type": "code",
   "execution_count": 124,
   "outputs": [
    {
     "data": {
      "text/plain": "   species_id             park_name category            order        family  \\\n55  ACAD-1055  Acadia National Park     Bird  Accipitriformes  Accipitridae   \n56  ACAD-1056  Acadia National Park     Bird  Accipitriformes  Accipitridae   \n57  ACAD-1057  Acadia National Park     Bird  Accipitriformes  Accipitridae   \n58  ACAD-1058  Acadia National Park     Bird  Accipitriformes  Accipitridae   \n59  ACAD-1059  Acadia National Park     Bird  Accipitriformes  Accipitridae   \n\n       scientific_name                                     common_names  \\\n55  Accipiter cooperii                                    Cooper's Hawk   \n56  Accipiter gentilis       Eastern Goshawk, Goshawk, Northern Goshawk   \n57  Accipiter striatus  Northern Sharp-Shinned Hawk, Sharp-Shinned Hawk   \n58   Aquila chrysaetos              American Golden Eagle, Golden Eagle   \n59   Buteo jamaicensis         Eastern Red-Tailed Hawk, Red-Tailed Hawk   \n\n   record_status occurrence nativeness   abundance seasonality  \\\n55      Approved    Present     Native    Uncommon         NaN   \n56      Approved    Present     Native    Uncommon     Breeder   \n57      Approved    Present     Native      Common     Breeder   \n58      Approved    Present     Native  Occasional     Vagrant   \n59      Approved    Present     Native      Common     Breeder   \n\n   conservation_status unnamed:_13  \n55  Species of Concern         NaN  \n56                 NaN         NaN  \n57  Species of Concern         NaN  \n58  Species of Concern         NaN  \n59                 NaN         NaN  ",
      "text/html": "<div>\n<style scoped>\n    .dataframe tbody tr th:only-of-type {\n        vertical-align: middle;\n    }\n\n    .dataframe tbody tr th {\n        vertical-align: top;\n    }\n\n    .dataframe thead th {\n        text-align: right;\n    }\n</style>\n<table border=\"1\" class=\"dataframe\">\n  <thead>\n    <tr style=\"text-align: right;\">\n      <th></th>\n      <th>species_id</th>\n      <th>park_name</th>\n      <th>category</th>\n      <th>order</th>\n      <th>family</th>\n      <th>scientific_name</th>\n      <th>common_names</th>\n      <th>record_status</th>\n      <th>occurrence</th>\n      <th>nativeness</th>\n      <th>abundance</th>\n      <th>seasonality</th>\n      <th>conservation_status</th>\n      <th>unnamed:_13</th>\n    </tr>\n  </thead>\n  <tbody>\n    <tr>\n      <th>55</th>\n      <td>ACAD-1055</td>\n      <td>Acadia National Park</td>\n      <td>Bird</td>\n      <td>Accipitriformes</td>\n      <td>Accipitridae</td>\n      <td>Accipiter cooperii</td>\n      <td>Cooper's Hawk</td>\n      <td>Approved</td>\n      <td>Present</td>\n      <td>Native</td>\n      <td>Uncommon</td>\n      <td>NaN</td>\n      <td>Species of Concern</td>\n      <td>NaN</td>\n    </tr>\n    <tr>\n      <th>56</th>\n      <td>ACAD-1056</td>\n      <td>Acadia National Park</td>\n      <td>Bird</td>\n      <td>Accipitriformes</td>\n      <td>Accipitridae</td>\n      <td>Accipiter gentilis</td>\n      <td>Eastern Goshawk, Goshawk, Northern Goshawk</td>\n      <td>Approved</td>\n      <td>Present</td>\n      <td>Native</td>\n      <td>Uncommon</td>\n      <td>Breeder</td>\n      <td>NaN</td>\n      <td>NaN</td>\n    </tr>\n    <tr>\n      <th>57</th>\n      <td>ACAD-1057</td>\n      <td>Acadia National Park</td>\n      <td>Bird</td>\n      <td>Accipitriformes</td>\n      <td>Accipitridae</td>\n      <td>Accipiter striatus</td>\n      <td>Northern Sharp-Shinned Hawk, Sharp-Shinned Hawk</td>\n      <td>Approved</td>\n      <td>Present</td>\n      <td>Native</td>\n      <td>Common</td>\n      <td>Breeder</td>\n      <td>Species of Concern</td>\n      <td>NaN</td>\n    </tr>\n    <tr>\n      <th>58</th>\n      <td>ACAD-1058</td>\n      <td>Acadia National Park</td>\n      <td>Bird</td>\n      <td>Accipitriformes</td>\n      <td>Accipitridae</td>\n      <td>Aquila chrysaetos</td>\n      <td>American Golden Eagle, Golden Eagle</td>\n      <td>Approved</td>\n      <td>Present</td>\n      <td>Native</td>\n      <td>Occasional</td>\n      <td>Vagrant</td>\n      <td>Species of Concern</td>\n      <td>NaN</td>\n    </tr>\n    <tr>\n      <th>59</th>\n      <td>ACAD-1059</td>\n      <td>Acadia National Park</td>\n      <td>Bird</td>\n      <td>Accipitriformes</td>\n      <td>Accipitridae</td>\n      <td>Buteo jamaicensis</td>\n      <td>Eastern Red-Tailed Hawk, Red-Tailed Hawk</td>\n      <td>Approved</td>\n      <td>Present</td>\n      <td>Native</td>\n      <td>Common</td>\n      <td>Breeder</td>\n      <td>NaN</td>\n      <td>NaN</td>\n    </tr>\n  </tbody>\n</table>\n</div>"
     },
     "execution_count": 124,
     "metadata": {},
     "output_type": "execute_result"
    }
   ],
   "source": [
    "bird_species = species_data[species_data.category == 'Bird']\n",
    "bird_species.head()"
   ],
   "metadata": {
    "collapsed": false
   }
  },
  {
   "cell_type": "code",
   "execution_count": 125,
   "outputs": [
    {
     "name": "stdout",
     "output_type": "stream",
     "text": [
      "(Rows, Columns): (14601, 14)\n",
      "\n",
      "The number of unique values:\n",
      "\n",
      "species_id             14601\n",
      "park_name                 56\n",
      "category                   1\n",
      "order                     24\n",
      "family                    86\n",
      "scientific_name         1436\n",
      "common_names            1551\n",
      "record_status             10\n",
      "occurrence                 6\n",
      "nativeness                 4\n",
      "abundance                  7\n",
      "seasonality               23\n",
      "conservation_status        8\n",
      "unnamed:_13                1\n",
      "dtype: int64\n"
     ]
    }
   ],
   "source": [
    "print(f\"(Rows, Columns): {bird_species.shape}\\n\")\n",
    "print(f\"The number of unique values:\\n\\n{bird_species.nunique()}\")"
   ],
   "metadata": {
    "collapsed": false
   }
  },
  {
   "cell_type": "markdown",
   "source": [
    "### Isolate Southwest States By Park Name"
   ],
   "metadata": {
    "collapsed": false
   }
  },
  {
   "cell_type": "code",
   "execution_count": 126,
   "outputs": [
    {
     "name": "stdout",
     "output_type": "stream",
     "text": [
      "['Grand Canyon National Park', 'Petrified Forest National Park', 'Saguaro National Park', 'Channel Islands National Park', 'Joshua Tree National Park', 'Lassen Volcanic National Park', 'Pinnacles National Park', 'Redwood National Park', 'Sequoia and Kings Canyon National Parks', 'Yosemite National Park', 'Black Canyon of the Gunnison National Park', 'Great Sand Dunes National Park and Preserve', 'Mesa Verde National Park', 'Rocky Mountain National Park', 'Great Basin National Park', 'Carlsbad Caverns National Park', 'Big Bend National Park', 'Guadalupe Mountains National Park', 'Arches National Park', 'Bryce Canyon National Park', 'Canyonlands National Park', 'Capitol Reef National Park', 'Zion National Park']\n"
     ]
    }
   ],
   "source": [
    "print(sw_parks_list)"
   ],
   "metadata": {
    "collapsed": false
   }
  },
  {
   "cell_type": "code",
   "execution_count": 127,
   "outputs": [
    {
     "name": "stdout",
     "output_type": "stream",
     "text": [
      "Shape Of Data: (6514, 14)\n"
     ]
    },
    {
     "data": {
      "text/plain": "      species_id                   park_name category            order  \\\n42081  GRCA-1106  Grand Canyon National Park     Bird  Accipitriformes   \n42082  GRCA-1107  Grand Canyon National Park     Bird  Accipitriformes   \n42083  GRCA-1108  Grand Canyon National Park     Bird  Accipitriformes   \n42084  GRCA-1109  Grand Canyon National Park     Bird  Accipitriformes   \n42085  GRCA-1110  Grand Canyon National Park     Bird  Accipitriformes   \n\n             family     scientific_name        common_names record_status  \\\n42081  Accipitridae  Accipiter cooperii       Cooper's Hawk      Approved   \n42082  Accipitridae  Accipiter gentilis    Northern Goshawk      Approved   \n42083  Accipitridae  Accipiter striatus  Sharp-Shinned Hawk      Approved   \n42084  Accipitridae   Aquila chrysaetos        Golden Eagle      Approved   \n42085  Accipitridae   Buteo albonotatus    Zone-Tailed Hawk      Approved   \n\n      occurrence nativeness abundance seasonality conservation_status  \\\n42081    Present     Native    Common     Breeder  Species of Concern   \n42082    Present     Native    Common     Breeder                 NaN   \n42083    Present     Native    Common     Breeder  Species of Concern   \n42084    Present     Native  Uncommon     Breeder  Species of Concern   \n42085    Present     Native    Common     Breeder                 NaN   \n\n      unnamed:_13  \n42081         NaN  \n42082         NaN  \n42083         NaN  \n42084         NaN  \n42085         NaN  ",
      "text/html": "<div>\n<style scoped>\n    .dataframe tbody tr th:only-of-type {\n        vertical-align: middle;\n    }\n\n    .dataframe tbody tr th {\n        vertical-align: top;\n    }\n\n    .dataframe thead th {\n        text-align: right;\n    }\n</style>\n<table border=\"1\" class=\"dataframe\">\n  <thead>\n    <tr style=\"text-align: right;\">\n      <th></th>\n      <th>species_id</th>\n      <th>park_name</th>\n      <th>category</th>\n      <th>order</th>\n      <th>family</th>\n      <th>scientific_name</th>\n      <th>common_names</th>\n      <th>record_status</th>\n      <th>occurrence</th>\n      <th>nativeness</th>\n      <th>abundance</th>\n      <th>seasonality</th>\n      <th>conservation_status</th>\n      <th>unnamed:_13</th>\n    </tr>\n  </thead>\n  <tbody>\n    <tr>\n      <th>42081</th>\n      <td>GRCA-1106</td>\n      <td>Grand Canyon National Park</td>\n      <td>Bird</td>\n      <td>Accipitriformes</td>\n      <td>Accipitridae</td>\n      <td>Accipiter cooperii</td>\n      <td>Cooper's Hawk</td>\n      <td>Approved</td>\n      <td>Present</td>\n      <td>Native</td>\n      <td>Common</td>\n      <td>Breeder</td>\n      <td>Species of Concern</td>\n      <td>NaN</td>\n    </tr>\n    <tr>\n      <th>42082</th>\n      <td>GRCA-1107</td>\n      <td>Grand Canyon National Park</td>\n      <td>Bird</td>\n      <td>Accipitriformes</td>\n      <td>Accipitridae</td>\n      <td>Accipiter gentilis</td>\n      <td>Northern Goshawk</td>\n      <td>Approved</td>\n      <td>Present</td>\n      <td>Native</td>\n      <td>Common</td>\n      <td>Breeder</td>\n      <td>NaN</td>\n      <td>NaN</td>\n    </tr>\n    <tr>\n      <th>42083</th>\n      <td>GRCA-1108</td>\n      <td>Grand Canyon National Park</td>\n      <td>Bird</td>\n      <td>Accipitriformes</td>\n      <td>Accipitridae</td>\n      <td>Accipiter striatus</td>\n      <td>Sharp-Shinned Hawk</td>\n      <td>Approved</td>\n      <td>Present</td>\n      <td>Native</td>\n      <td>Common</td>\n      <td>Breeder</td>\n      <td>Species of Concern</td>\n      <td>NaN</td>\n    </tr>\n    <tr>\n      <th>42084</th>\n      <td>GRCA-1109</td>\n      <td>Grand Canyon National Park</td>\n      <td>Bird</td>\n      <td>Accipitriformes</td>\n      <td>Accipitridae</td>\n      <td>Aquila chrysaetos</td>\n      <td>Golden Eagle</td>\n      <td>Approved</td>\n      <td>Present</td>\n      <td>Native</td>\n      <td>Uncommon</td>\n      <td>Breeder</td>\n      <td>Species of Concern</td>\n      <td>NaN</td>\n    </tr>\n    <tr>\n      <th>42085</th>\n      <td>GRCA-1110</td>\n      <td>Grand Canyon National Park</td>\n      <td>Bird</td>\n      <td>Accipitriformes</td>\n      <td>Accipitridae</td>\n      <td>Buteo albonotatus</td>\n      <td>Zone-Tailed Hawk</td>\n      <td>Approved</td>\n      <td>Present</td>\n      <td>Native</td>\n      <td>Common</td>\n      <td>Breeder</td>\n      <td>NaN</td>\n      <td>NaN</td>\n    </tr>\n  </tbody>\n</table>\n</div>"
     },
     "execution_count": 127,
     "metadata": {},
     "output_type": "execute_result"
    }
   ],
   "source": [
    "sw_birds = pd.DataFrame(columns=bird_species.columns)\n",
    "# iterate through the list of parks\n",
    "for park in sw_parks_list:\n",
    "    # is park in column, 'park_name'?\n",
    "    match = bird_species[bird_species['park_name'] == park]\n",
    "    # Append matching states\n",
    "    sw_birds = pd.concat([sw_birds, match])\n",
    "\n",
    "print(f\"Shape Of Data: {sw_birds.shape}\")\n",
    "sw_birds.head()"
   ],
   "metadata": {
    "collapsed": false
   }
  },
  {
   "cell_type": "markdown",
   "source": [
    "#### Exploring `conservation_status` column"
   ],
   "metadata": {
    "collapsed": false
   }
  },
  {
   "cell_type": "code",
   "execution_count": 128,
   "outputs": [
    {
     "name": "stdout",
     "output_type": "stream",
     "text": [
      "There are 7 categories:\n",
      "\n",
      "['Species of Concern' nan 'In Recovery' 'Endangered' 'Threatened'\n",
      " 'Under Review' 'Breeder' 'Resident']\n"
     ]
    }
   ],
   "source": [
    "print(f\"There are {sw_birds.conservation_status.nunique()} categories:\\n\\n{sw_birds.conservation_status.unique()}\")"
   ],
   "metadata": {
    "collapsed": false
   }
  },
  {
   "cell_type": "code",
   "execution_count": 129,
   "outputs": [
    {
     "name": "stdout",
     "output_type": "stream",
     "text": [
      "NaN value count: 5233\n",
      "\n"
     ]
    },
    {
     "data": {
      "text/plain": "conservation_status\nBreeder                  4\nEndangered              27\nIn Recovery             34\nResident                 4\nSpecies of Concern    1163\nThreatened              29\nUnder Review            20\ndtype: int64"
     },
     "execution_count": 129,
     "metadata": {},
     "output_type": "execute_result"
    }
   ],
   "source": [
    "print(f\"NaN value count: {sw_birds.conservation_status.isna().sum()}\\n\")\n",
    "sw_birds.groupby(\"conservation_status\").size()"
   ],
   "metadata": {
    "collapsed": false
   }
  },
  {
   "cell_type": "markdown",
   "source": [
    "### `conservation_status`\n",
    "- `Breeder`:\n",
    "- `Endangered`: seriously at risk of extinction\n",
    "- `In Recovery`: formerly `Endangered`, but currently neither in danger of extinction throughout all or a significant portion of its range\n",
    "- `Resident`:\n",
    "- `Species of Concern`: declining or appear to be in need of conservation\n",
    "- `Threatened`: vulnerable to endangerment in the near future\n",
    "- `Under Review`:\n"
   ],
   "metadata": {
    "collapsed": false
   }
  },
  {
   "cell_type": "markdown",
   "source": [
    "Need to research [IUCN](https://en.wikipedia.org/wiki/IUCN_Red_List) Red List.\n",
    "- What do we populate NaN with?\n",
    "\n",
    "#### `Least Concern`?"
   ],
   "metadata": {
    "collapsed": false
   }
  },
  {
   "cell_type": "markdown",
   "source": [
    "---\n",
    "### `record_status`"
   ],
   "metadata": {
    "collapsed": false
   }
  },
  {
   "cell_type": "code",
   "execution_count": 130,
   "outputs": [
    {
     "name": "stdout",
     "output_type": "stream",
     "text": [
      "There are 10 categories:\n",
      "\n",
      "['Approved' 'In Review' ' Northern Goshawk' ' Northern Pintail'\n",
      " ' Common Poorwill' ' Pigeon Hawk' ' Bushtit' ' American Crow' ' Catbird'\n",
      " ' Robin']\n"
     ]
    }
   ],
   "source": [
    "print(f\"There are {sw_birds.record_status.nunique()} categories:\\n\\n{sw_birds.record_status.unique()}\")"
   ],
   "metadata": {
    "collapsed": false
   }
  },
  {
   "cell_type": "markdown",
   "source": [
    "Strange... Why populated with common names?\n",
    "lose!"
   ],
   "metadata": {
    "collapsed": false
   }
  },
  {
   "cell_type": "markdown",
   "source": [
    "---\n",
    "### `occurence`"
   ],
   "metadata": {
    "collapsed": false
   }
  },
  {
   "cell_type": "code",
   "execution_count": 112,
   "outputs": [
    {
     "name": "stdout",
     "output_type": "stream",
     "text": [
      "There are 6 categories:\n",
      "\n",
      "['Present' 'Not Present' 'Not Present (False Report)' 'Not Confirmed'\n",
      " 'Not Present (Historical Report)' nan 'Approved']\n"
     ]
    }
   ],
   "source": [
    "print(f\"There are {sw_birds.occurrence.nunique()} categories:\\n\\n{sw_birds.occurrence.unique()}\")"
   ],
   "metadata": {
    "collapsed": false
   }
  },
  {
   "cell_type": "markdown",
   "source": [
    "lose!"
   ],
   "metadata": {
    "collapsed": false
   }
  },
  {
   "cell_type": "markdown",
   "source": [
    "---\n",
    "### `nativeness`"
   ],
   "metadata": {
    "collapsed": false
   }
  },
  {
   "cell_type": "code",
   "execution_count": 131,
   "outputs": [
    {
     "name": "stdout",
     "output_type": "stream",
     "text": [
      "There are 4 categories:\n",
      "\n",
      "['Native' 'Not Native' 'Unknown' nan 'Present']\n"
     ]
    }
   ],
   "source": [
    "print(f\"There are {sw_birds.nativeness.nunique()} categories:\\n\\n{sw_birds.nativeness.unique()}\")"
   ],
   "metadata": {
    "collapsed": false
   }
  },
  {
   "cell_type": "markdown",
   "source": [
    "lose!"
   ],
   "metadata": {
    "collapsed": false
   }
  },
  {
   "cell_type": "markdown",
   "source": [
    "---\n",
    "### `abundance`"
   ],
   "metadata": {
    "collapsed": false
   }
  },
  {
   "cell_type": "code",
   "execution_count": 132,
   "outputs": [
    {
     "name": "stdout",
     "output_type": "stream",
     "text": [
      "There are 7 categories:\n",
      "\n",
      "['Common' 'Uncommon' 'Rare' 'Occasional' nan 'Abundant' 'Unknown' 'Native']\n"
     ]
    }
   ],
   "source": [
    "print(f\"There are {sw_birds.abundance.nunique()} categories:\\n\\n{sw_birds.abundance.unique()}\")"
   ],
   "metadata": {
    "collapsed": false
   }
  },
  {
   "cell_type": "code",
   "execution_count": 133,
   "outputs": [
    {
     "name": "stdout",
     "output_type": "stream",
     "text": [
      "NaN value count: 943\n",
      "\n"
     ]
    },
    {
     "data": {
      "text/plain": "abundance\nAbundant       178\nCommon        1222\nNative           8\nOccasional    1169\nRare          1078\nUncommon      1231\nUnknown        685\ndtype: int64"
     },
     "execution_count": 133,
     "metadata": {},
     "output_type": "execute_result"
    }
   ],
   "source": [
    "print(f\"NaN value count: {sw_birds.abundance.isna().sum()}\\n\")\n",
    "sw_birds.groupby(\"abundance\").size()"
   ],
   "metadata": {
    "collapsed": false
   }
  },
  {
   "cell_type": "markdown",
   "source": [
    "This could be useful..."
   ],
   "metadata": {
    "collapsed": false
   }
  },
  {
   "cell_type": "markdown",
   "source": [
    "---\n",
    "`seasonality`"
   ],
   "metadata": {
    "collapsed": false
   }
  },
  {
   "cell_type": "code",
   "execution_count": 134,
   "outputs": [
    {
     "name": "stdout",
     "output_type": "stream",
     "text": [
      "There are 21 categories:\n",
      "\n",
      "['Breeder' 'Migratory, Winter' 'Vagrant' 'Migratory' 'Breeder, Winter'\n",
      " 'Resident' nan 'Winter' 'Resident, Winter' 'Summer, Vagrant'\n",
      " 'Breeder, Resident, Summer' 'Resident, Summer' 'Migratory, Vagrant'\n",
      " 'Summer' 'Breeder, Resident, Migratory, Summer'\n",
      " 'Breeder, Resident, Summer, Winter' 'Breeder, Migratory'\n",
      " 'Migratory, Summer' 'Winter, Vagrant' 'Rare' 'Uncommon' 'Common']\n"
     ]
    }
   ],
   "source": [
    "print(f\"There are {sw_birds.seasonality.nunique()} categories:\\n\\n{sw_birds.seasonality.unique()}\")"
   ],
   "metadata": {
    "collapsed": false
   }
  },
  {
   "cell_type": "markdown",
   "source": [
    "We don't have date/time/season data.\n",
    "Don't think we can use this"
   ],
   "metadata": {
    "collapsed": false
   }
  },
  {
   "cell_type": "markdown",
   "source": [
    "### Will lose columns;\n",
    "- `species_ID`\n",
    "- `unnamed:13`"
   ],
   "metadata": {
    "collapsed": false
   }
  },
  {
   "cell_type": "markdown",
   "source": [],
   "metadata": {
    "collapsed": false
   }
  },
  {
   "cell_type": "markdown",
   "source": [
    "---\n",
    "\n",
    "# Milestone\n",
    "\n",
    "---"
   ],
   "metadata": {
    "collapsed": false
   }
  },
  {
   "cell_type": "markdown",
   "source": [
    "## Which columns to lose??"
   ],
   "metadata": {
    "collapsed": false
   }
  },
  {
   "cell_type": "code",
   "execution_count": null,
   "outputs": [],
   "source": [],
   "metadata": {
    "collapsed": false
   }
  },
  {
   "cell_type": "code",
   "execution_count": null,
   "outputs": [],
   "source": [],
   "metadata": {
    "collapsed": false
   }
  },
  {
   "cell_type": "code",
   "execution_count": null,
   "outputs": [],
   "source": [
    "# We use this code to assign, 'Is it a bird of prey?'\n",
    "\n",
    "# Bird of prey list - Is this exhaustive?\n",
    "birds_of_prey = [\"Eagle\", \"Hawk\", \"Falcon\", \"Buzzard\", \"Harrier\", \"Kite\", \"Owl\", \"Osprey\", \"Vulture\", \"Condor\", \"Kestrel\"]\n",
    "\n",
    "sw_birds['bird_of_prey'] = sw_birds.common_names.str.findall('({0})'.format('|'.join(birds_of_prey)))\n",
    "sw_birds['bird_of_prey'] = sw_birds['bird_of_prey'].apply('. '.join)\n"
   ],
   "metadata": {
    "collapsed": false
   }
  },
  {
   "cell_type": "markdown",
   "source": [],
   "metadata": {
    "collapsed": false
   }
  }
 ],
 "metadata": {
  "kernelspec": {
   "display_name": "Python 3",
   "language": "python",
   "name": "python3"
  },
  "language_info": {
   "codemirror_mode": {
    "name": "ipython",
    "version": 2
   },
   "file_extension": ".py",
   "mimetype": "text/x-python",
   "name": "python",
   "nbconvert_exporter": "python",
   "pygments_lexer": "ipython2",
   "version": "2.7.6"
  }
 },
 "nbformat": 4,
 "nbformat_minor": 0
}
