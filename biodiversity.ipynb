{
 "cells": [
  {
   "cell_type": "markdown",
   "source": [
    "# Biodiversity in U.S. National Parks"
   ],
   "metadata": {
    "collapsed": false
   }
  },
  {
   "cell_type": "markdown",
   "source": [
    "## North American Birds of Prey"
   ],
   "metadata": {
    "collapsed": false
   }
  },
  {
   "cell_type": "code",
   "execution_count": 74,
   "metadata": {
    "collapsed": true
   },
   "outputs": [],
   "source": [
    "# Importing the necessary modules\n",
    "import pandas as pd\n",
    "import matplotlib.pyplot as plt\n",
    "import matplotlib.patches as mpatches\n",
    "import seaborn as sns\n",
    "import numpy as np"
   ]
  },
  {
   "cell_type": "markdown",
   "source": [
    "## Loading in the data"
   ],
   "metadata": {
    "collapsed": false
   }
  },
  {
   "cell_type": "markdown",
   "source": [
    "# `parks.csv`"
   ],
   "metadata": {
    "collapsed": false
   }
  },
  {
   "cell_type": "code",
   "execution_count": 75,
   "outputs": [
    {
     "name": "stdout",
     "output_type": "stream",
     "text": [
      "Columns: ['Park Code', 'Park Name', 'State', 'Acres', 'Latitude', 'Longitude']\n",
      "\n",
      "(Rows, Columns): (56, 6)\n"
     ]
    },
    {
     "data": {
      "text/plain": "  Park Code               Park Name State   Acres  Latitude  Longitude\n0      ACAD    Acadia National Park    ME   47390     44.35     -68.21\n1      ARCH    Arches National Park    UT   76519     38.68    -109.57\n2      BADL  Badlands National Park    SD  242756     43.75    -102.50\n3      BIBE  Big Bend National Park    TX  801163     29.25    -103.25\n4      BISC  Biscayne National Park    FL  172924     25.65     -80.08",
      "text/html": "<div>\n<style scoped>\n    .dataframe tbody tr th:only-of-type {\n        vertical-align: middle;\n    }\n\n    .dataframe tbody tr th {\n        vertical-align: top;\n    }\n\n    .dataframe thead th {\n        text-align: right;\n    }\n</style>\n<table border=\"1\" class=\"dataframe\">\n  <thead>\n    <tr style=\"text-align: right;\">\n      <th></th>\n      <th>Park Code</th>\n      <th>Park Name</th>\n      <th>State</th>\n      <th>Acres</th>\n      <th>Latitude</th>\n      <th>Longitude</th>\n    </tr>\n  </thead>\n  <tbody>\n    <tr>\n      <th>0</th>\n      <td>ACAD</td>\n      <td>Acadia National Park</td>\n      <td>ME</td>\n      <td>47390</td>\n      <td>44.35</td>\n      <td>-68.21</td>\n    </tr>\n    <tr>\n      <th>1</th>\n      <td>ARCH</td>\n      <td>Arches National Park</td>\n      <td>UT</td>\n      <td>76519</td>\n      <td>38.68</td>\n      <td>-109.57</td>\n    </tr>\n    <tr>\n      <th>2</th>\n      <td>BADL</td>\n      <td>Badlands National Park</td>\n      <td>SD</td>\n      <td>242756</td>\n      <td>43.75</td>\n      <td>-102.50</td>\n    </tr>\n    <tr>\n      <th>3</th>\n      <td>BIBE</td>\n      <td>Big Bend National Park</td>\n      <td>TX</td>\n      <td>801163</td>\n      <td>29.25</td>\n      <td>-103.25</td>\n    </tr>\n    <tr>\n      <th>4</th>\n      <td>BISC</td>\n      <td>Biscayne National Park</td>\n      <td>FL</td>\n      <td>172924</td>\n      <td>25.65</td>\n      <td>-80.08</td>\n    </tr>\n  </tbody>\n</table>\n</div>"
     },
     "execution_count": 75,
     "metadata": {},
     "output_type": "execute_result"
    }
   ],
   "source": [
    "parks_data = pd.read_csv(\"parks.csv\")\n",
    "print(f\"Columns: {parks_data.columns.tolist()}\\n\")\n",
    "print(f\"(Rows, Columns): {parks_data.shape}\")\n",
    "parks_data.head()"
   ],
   "metadata": {
    "collapsed": false
   }
  },
  {
   "cell_type": "code",
   "execution_count": 76,
   "outputs": [],
   "source": [
    "parks_data.columns = [col.lower().replace(\" \", \"_\") for col in parks_data.columns]"
   ],
   "metadata": {
    "collapsed": false
   }
  },
  {
   "cell_type": "markdown",
   "source": [
    "#### Creating a list of the Southwestern states.\n",
    "\n",
    "Arizona, California, Colorado, Nevada, New Mexico, Oklahoma, Texas, Utah"
   ],
   "metadata": {
    "collapsed": false
   }
  },
  {
   "cell_type": "code",
   "execution_count": 77,
   "outputs": [],
   "source": [
    "sw_states_list = [\"AZ\", \"CA\", \"CO\", \"NV\", \"NM\", \"OK\", \"TX\", \"UT\"]"
   ],
   "metadata": {
    "collapsed": false
   }
  },
  {
   "cell_type": "code",
   "execution_count": 78,
   "outputs": [
    {
     "data": {
      "text/plain": "   park_code                       park_name state    acres  latitude  \\\n22      GRCA      Grand Canyon National Park    AZ  1217403     36.06   \n42      PEFO  Petrified Forest National Park    AZ    93533     35.07   \n46      SAGU           Saguaro National Park    AZ    91440     32.25   \n10      CHIS   Channel Islands National Park    CA   249561     34.01   \n31      JOTR       Joshua Tree National Park    CA   789745     33.79   \n\n    longitude  \n22    -112.14  \n42    -109.78  \n46    -110.50  \n10    -119.42  \n31    -115.90  ",
      "text/html": "<div>\n<style scoped>\n    .dataframe tbody tr th:only-of-type {\n        vertical-align: middle;\n    }\n\n    .dataframe tbody tr th {\n        vertical-align: top;\n    }\n\n    .dataframe thead th {\n        text-align: right;\n    }\n</style>\n<table border=\"1\" class=\"dataframe\">\n  <thead>\n    <tr style=\"text-align: right;\">\n      <th></th>\n      <th>park_code</th>\n      <th>park_name</th>\n      <th>state</th>\n      <th>acres</th>\n      <th>latitude</th>\n      <th>longitude</th>\n    </tr>\n  </thead>\n  <tbody>\n    <tr>\n      <th>22</th>\n      <td>GRCA</td>\n      <td>Grand Canyon National Park</td>\n      <td>AZ</td>\n      <td>1217403</td>\n      <td>36.06</td>\n      <td>-112.14</td>\n    </tr>\n    <tr>\n      <th>42</th>\n      <td>PEFO</td>\n      <td>Petrified Forest National Park</td>\n      <td>AZ</td>\n      <td>93533</td>\n      <td>35.07</td>\n      <td>-109.78</td>\n    </tr>\n    <tr>\n      <th>46</th>\n      <td>SAGU</td>\n      <td>Saguaro National Park</td>\n      <td>AZ</td>\n      <td>91440</td>\n      <td>32.25</td>\n      <td>-110.50</td>\n    </tr>\n    <tr>\n      <th>10</th>\n      <td>CHIS</td>\n      <td>Channel Islands National Park</td>\n      <td>CA</td>\n      <td>249561</td>\n      <td>34.01</td>\n      <td>-119.42</td>\n    </tr>\n    <tr>\n      <th>31</th>\n      <td>JOTR</td>\n      <td>Joshua Tree National Park</td>\n      <td>CA</td>\n      <td>789745</td>\n      <td>33.79</td>\n      <td>-115.90</td>\n    </tr>\n  </tbody>\n</table>\n</div>"
     },
     "execution_count": 78,
     "metadata": {},
     "output_type": "execute_result"
    }
   ],
   "source": [
    "sw_data = pd.DataFrame(columns=parks_data.columns)\n",
    "# iterate through the list of states\n",
    "for state in sw_states_list:\n",
    "    # is state in column, 'State'?\n",
    "    match = parks_data[parks_data['state'] == state]\n",
    "    # Append matching states\n",
    "    sw_data = pd.concat([sw_data, match])\n",
    "\n",
    "sw_data.head()"
   ],
   "metadata": {
    "collapsed": false
   }
  },
  {
   "cell_type": "code",
   "execution_count": 79,
   "outputs": [
    {
     "name": "stdout",
     "output_type": "stream",
     "text": [
      "We have 23 parks: \n",
      "\n",
      "['Grand Canyon National Park', 'Petrified Forest National Park', 'Saguaro National Park', 'Channel Islands National Park', 'Joshua Tree National Park', 'Lassen Volcanic National Park', 'Pinnacles National Park', 'Redwood National Park', 'Sequoia and Kings Canyon National Parks', 'Yosemite National Park', 'Black Canyon of the Gunnison National Park', 'Great Sand Dunes National Park and Preserve', 'Mesa Verde National Park', 'Rocky Mountain National Park', 'Great Basin National Park', 'Carlsbad Caverns National Park', 'Big Bend National Park', 'Guadalupe Mountains National Park', 'Arches National Park', 'Bryce Canyon National Park', 'Canyonlands National Park', 'Capitol Reef National Park', 'Zion National Park']\n"
     ]
    }
   ],
   "source": [
    "sw_parks_list = sw_data['park_name'].unique().tolist()\n",
    "print(f\"We have {len(sw_parks_list)} parks: \\n\\n{sw_parks_list}\")"
   ],
   "metadata": {
    "collapsed": false
   }
  },
  {
   "cell_type": "markdown",
   "source": [
    "Useful to save a `sw_parks_list` variable for later"
   ],
   "metadata": {
    "collapsed": false
   }
  },
  {
   "cell_type": "markdown",
   "source": [
    "Create seperate Dataframes for each state $\\in$ `sw_states_list`"
   ],
   "metadata": {
    "collapsed": false
   }
  },
  {
   "cell_type": "code",
   "execution_count": 80,
   "outputs": [
    {
     "name": "stdout",
     "output_type": "stream",
     "text": [
      "\n",
      "AZ:\n",
      "Shape: (3, 6)\n",
      "\n",
      "CA:\n",
      "Shape: (7, 6)\n",
      "\n",
      "CO:\n",
      "Shape: (4, 6)\n",
      "\n",
      "NV:\n",
      "Shape: (1, 6)\n",
      "\n",
      "NM:\n",
      "Shape: (1, 6)\n",
      "\n",
      "OK:\n",
      "Shape: (0, 6)\n",
      "\n",
      "TX:\n",
      "Shape: (2, 6)\n",
      "\n",
      "UT:\n",
      "Shape: (5, 6)\n"
     ]
    }
   ],
   "source": [
    "d = {}\n",
    "for state in sw_states_list:\n",
    "    d[state] = pd.DataFrame(sw_data[sw_data['state'] == state])\n",
    "\n",
    "for i in range(0, len(sw_states_list)):\n",
    "    print(f\"\\n{sw_states_list[i]}:\\nShape: {d[sw_states_list[i]].shape}\")"
   ],
   "metadata": {
    "collapsed": false
   }
  },
  {
   "cell_type": "code",
   "execution_count": 81,
   "outputs": [
    {
     "data": {
      "text/plain": "   park_code                                park_name state   acres  latitude  \\\n10      CHIS            Channel Islands National Park    CA  249561     34.01   \n31      JOTR                Joshua Tree National Park    CA  789745     33.79   \n36      LAVO            Lassen Volcanic National Park    CA  106372     40.49   \n43      PINN                  Pinnacles National Park    CA   26606     36.48   \n44      REDW                    Redwood National Park    CA  112512     41.30   \n47      SEKI  Sequoia and Kings Canyon National Parks    CA  865952     36.43   \n54      YOSE                   Yosemite National Park    CA  761266     37.83   \n\n    longitude  \n10    -119.42  \n31    -115.90  \n36    -121.51  \n43    -121.16  \n44    -124.00  \n47    -118.68  \n54    -119.50  ",
      "text/html": "<div>\n<style scoped>\n    .dataframe tbody tr th:only-of-type {\n        vertical-align: middle;\n    }\n\n    .dataframe tbody tr th {\n        vertical-align: top;\n    }\n\n    .dataframe thead th {\n        text-align: right;\n    }\n</style>\n<table border=\"1\" class=\"dataframe\">\n  <thead>\n    <tr style=\"text-align: right;\">\n      <th></th>\n      <th>park_code</th>\n      <th>park_name</th>\n      <th>state</th>\n      <th>acres</th>\n      <th>latitude</th>\n      <th>longitude</th>\n    </tr>\n  </thead>\n  <tbody>\n    <tr>\n      <th>10</th>\n      <td>CHIS</td>\n      <td>Channel Islands National Park</td>\n      <td>CA</td>\n      <td>249561</td>\n      <td>34.01</td>\n      <td>-119.42</td>\n    </tr>\n    <tr>\n      <th>31</th>\n      <td>JOTR</td>\n      <td>Joshua Tree National Park</td>\n      <td>CA</td>\n      <td>789745</td>\n      <td>33.79</td>\n      <td>-115.90</td>\n    </tr>\n    <tr>\n      <th>36</th>\n      <td>LAVO</td>\n      <td>Lassen Volcanic National Park</td>\n      <td>CA</td>\n      <td>106372</td>\n      <td>40.49</td>\n      <td>-121.51</td>\n    </tr>\n    <tr>\n      <th>43</th>\n      <td>PINN</td>\n      <td>Pinnacles National Park</td>\n      <td>CA</td>\n      <td>26606</td>\n      <td>36.48</td>\n      <td>-121.16</td>\n    </tr>\n    <tr>\n      <th>44</th>\n      <td>REDW</td>\n      <td>Redwood National Park</td>\n      <td>CA</td>\n      <td>112512</td>\n      <td>41.30</td>\n      <td>-124.00</td>\n    </tr>\n    <tr>\n      <th>47</th>\n      <td>SEKI</td>\n      <td>Sequoia and Kings Canyon National Parks</td>\n      <td>CA</td>\n      <td>865952</td>\n      <td>36.43</td>\n      <td>-118.68</td>\n    </tr>\n    <tr>\n      <th>54</th>\n      <td>YOSE</td>\n      <td>Yosemite National Park</td>\n      <td>CA</td>\n      <td>761266</td>\n      <td>37.83</td>\n      <td>-119.50</td>\n    </tr>\n  </tbody>\n</table>\n</div>"
     },
     "execution_count": 81,
     "metadata": {},
     "output_type": "execute_result"
    }
   ],
   "source": [
    "# We can call DataFrames for each state using below syntax\n",
    "# California:\n",
    "d['CA']"
   ],
   "metadata": {
    "collapsed": false
   }
  },
  {
   "cell_type": "markdown",
   "source": [
    "Seven isn't enough...\n",
    "Probably just keep all the parks. Fuck it!"
   ],
   "metadata": {
    "collapsed": false
   }
  },
  {
   "cell_type": "markdown",
   "source": [
    "On a map to get an idea of where these parks are"
   ],
   "metadata": {
    "collapsed": false
   }
  },
  {
   "cell_type": "markdown",
   "source": [
    "<img src=\"Images/California_Coast.png\"/>"
   ],
   "metadata": {
    "collapsed": false
   }
  },
  {
   "cell_type": "markdown",
   "source": [
    "<img src=\"Images/Desert.png\"/>"
   ],
   "metadata": {
    "collapsed": false
   }
  },
  {
   "cell_type": "markdown",
   "source": [
    "<img src=\"Images/Area_Baja.png\"/>"
   ],
   "metadata": {
    "collapsed": false
   }
  },
  {
   "cell_type": "markdown",
   "source": [
    "[AZ, CO, NV, UT](https://earth.google.com/web/search/Zion+National+Park,+Utah,+USA/@35.13603563,-108.8328106,1267.20627283a,2369647.23679662d,35y,0h,0t,0r/data=CigiJgokCanCP9QYRUNAEZ9uI2M12UJAGZSefyJpnlvAIQD8Bzs89FvA)\n",
    "[CA](https://earth.google.com/web/search/Zion+National+Park,+Utah,+USA/@37.45209159,-120.51900674,-23.85042741a,2315631.43578798d,35y,0h,0t,0r/data=CigiJgokCanCP9QYRUNAEZ9uI2M12UJAGZSefyJpnlvAIQD8Bzs89FvA)\n",
    "[Baja, TX](https://earth.google.com/web/search/Zion+National+Park,+Utah,+USA/@37.45209159,-120.51900674,-23.85042741a,2315631.43578798d,35y,0h,0t,0r/data=CigiJgokCanCP9QYRUNAEZ9uI2M12UJAGZSefyJpnlvAIQD8Bzs89FvA)"
   ],
   "metadata": {
    "collapsed": false
   }
  },
  {
   "cell_type": "markdown",
   "source": [],
   "metadata": {
    "collapsed": false
   }
  }
 ],
 "metadata": {
  "kernelspec": {
   "display_name": "Python 3",
   "language": "python",
   "name": "python3"
  },
  "language_info": {
   "codemirror_mode": {
    "name": "ipython",
    "version": 2
   },
   "file_extension": ".py",
   "mimetype": "text/x-python",
   "name": "python",
   "nbconvert_exporter": "python",
   "pygments_lexer": "ipython2",
   "version": "2.7.6"
  }
 },
 "nbformat": 4,
 "nbformat_minor": 0
}
