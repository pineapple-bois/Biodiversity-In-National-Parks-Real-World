{
 "cells": [
  {
   "cell_type": "markdown",
   "source": [
    "# Biodiversity in U.S. National Parks"
   ],
   "metadata": {
    "collapsed": false
   }
  },
  {
   "cell_type": "markdown",
   "source": [
    "## North American Birds of Prey"
   ],
   "metadata": {
    "collapsed": false
   }
  },
  {
   "cell_type": "markdown",
   "source": [
    "### Data has been cleaned in `wrangling.ipynb`"
   ],
   "metadata": {
    "collapsed": false
   }
  },
  {
   "cell_type": "code",
   "execution_count": 62,
   "metadata": {
    "collapsed": true
   },
   "outputs": [],
   "source": [
    "# Importing the necessary modules\n",
    "import pandas as pd\n",
    "import matplotlib.pyplot as plt\n",
    "import matplotlib.patches as mpatches\n",
    "import plotly.express as px\n",
    "import seaborn as sns\n",
    "import numpy as np"
   ]
  },
  {
   "cell_type": "markdown",
   "source": [
    "## Loading in .csv files"
   ],
   "metadata": {
    "collapsed": false
   }
  },
  {
   "cell_type": "markdown",
   "source": [
    "### `sw_birds.csv`"
   ],
   "metadata": {
    "collapsed": false
   }
  },
  {
   "cell_type": "code",
   "execution_count": 73,
   "outputs": [
    {
     "data": {
      "text/plain": "   prev_index park_code                   park_name        family  \\\n0       42081      GRCA  Grand Canyon National Park  Accipitridae   \n1       42082      GRCA  Grand Canyon National Park  Accipitridae   \n2       42083      GRCA  Grand Canyon National Park  Accipitridae   \n3       42084      GRCA  Grand Canyon National Park  Accipitridae   \n4       42085      GRCA  Grand Canyon National Park  Accipitridae   \n\n      scientific_name        common_names conservation_status  protected  \\\n0  Accipiter cooperii       Cooper's Hawk  Species of Concern       True   \n1  Accipiter gentilis    Northern Goshawk       Least Concern      False   \n2  Accipiter striatus  Sharp Shinned Hawk  Species of Concern       True   \n3   Aquila chrysaetos        Golden Eagle  Species of Concern       True   \n4   Buteo albonotatus    Zone Tailed Hawk       Least Concern      False   \n\n  raptor  \n0   Hawk  \n1   Hawk  \n2   Hawk  \n3  Eagle  \n4   Hawk  ",
      "text/html": "<div>\n<style scoped>\n    .dataframe tbody tr th:only-of-type {\n        vertical-align: middle;\n    }\n\n    .dataframe tbody tr th {\n        vertical-align: top;\n    }\n\n    .dataframe thead th {\n        text-align: right;\n    }\n</style>\n<table border=\"1\" class=\"dataframe\">\n  <thead>\n    <tr style=\"text-align: right;\">\n      <th></th>\n      <th>prev_index</th>\n      <th>park_code</th>\n      <th>park_name</th>\n      <th>family</th>\n      <th>scientific_name</th>\n      <th>common_names</th>\n      <th>conservation_status</th>\n      <th>protected</th>\n      <th>raptor</th>\n    </tr>\n  </thead>\n  <tbody>\n    <tr>\n      <th>0</th>\n      <td>42081</td>\n      <td>GRCA</td>\n      <td>Grand Canyon National Park</td>\n      <td>Accipitridae</td>\n      <td>Accipiter cooperii</td>\n      <td>Cooper's Hawk</td>\n      <td>Species of Concern</td>\n      <td>True</td>\n      <td>Hawk</td>\n    </tr>\n    <tr>\n      <th>1</th>\n      <td>42082</td>\n      <td>GRCA</td>\n      <td>Grand Canyon National Park</td>\n      <td>Accipitridae</td>\n      <td>Accipiter gentilis</td>\n      <td>Northern Goshawk</td>\n      <td>Least Concern</td>\n      <td>False</td>\n      <td>Hawk</td>\n    </tr>\n    <tr>\n      <th>2</th>\n      <td>42083</td>\n      <td>GRCA</td>\n      <td>Grand Canyon National Park</td>\n      <td>Accipitridae</td>\n      <td>Accipiter striatus</td>\n      <td>Sharp Shinned Hawk</td>\n      <td>Species of Concern</td>\n      <td>True</td>\n      <td>Hawk</td>\n    </tr>\n    <tr>\n      <th>3</th>\n      <td>42084</td>\n      <td>GRCA</td>\n      <td>Grand Canyon National Park</td>\n      <td>Accipitridae</td>\n      <td>Aquila chrysaetos</td>\n      <td>Golden Eagle</td>\n      <td>Species of Concern</td>\n      <td>True</td>\n      <td>Eagle</td>\n    </tr>\n    <tr>\n      <th>4</th>\n      <td>42085</td>\n      <td>GRCA</td>\n      <td>Grand Canyon National Park</td>\n      <td>Accipitridae</td>\n      <td>Buteo albonotatus</td>\n      <td>Zone Tailed Hawk</td>\n      <td>Least Concern</td>\n      <td>False</td>\n      <td>Hawk</td>\n    </tr>\n  </tbody>\n</table>\n</div>"
     },
     "execution_count": 73,
     "metadata": {},
     "output_type": "execute_result"
    }
   ],
   "source": [
    "birds_df = pd.read_csv('csv_files/sw_birds.csv')\n",
    "birds_df.rename(columns={'Unnamed: 0': 'prev_index'}, inplace=True)\n",
    "birds_df.head()"
   ],
   "metadata": {
    "collapsed": false
   }
  },
  {
   "cell_type": "markdown",
   "source": [
    "### `sw_data.csv`"
   ],
   "metadata": {
    "collapsed": false
   }
  },
  {
   "cell_type": "code",
   "execution_count": 74,
   "outputs": [
    {
     "data": {
      "text/plain": "  park_code               park_name state   acres  latitude  longitude\n0      ACAD    Acadia National Park    ME   47390     44.35     -68.21\n1      ARCH    Arches National Park    UT   76519     38.68    -109.57\n2      BADL  Badlands National Park    SD  242756     43.75    -102.50\n3      BIBE  Big Bend National Park    TX  801163     29.25    -103.25\n4      BISC  Biscayne National Park    FL  172924     25.65     -80.08",
      "text/html": "<div>\n<style scoped>\n    .dataframe tbody tr th:only-of-type {\n        vertical-align: middle;\n    }\n\n    .dataframe tbody tr th {\n        vertical-align: top;\n    }\n\n    .dataframe thead th {\n        text-align: right;\n    }\n</style>\n<table border=\"1\" class=\"dataframe\">\n  <thead>\n    <tr style=\"text-align: right;\">\n      <th></th>\n      <th>park_code</th>\n      <th>park_name</th>\n      <th>state</th>\n      <th>acres</th>\n      <th>latitude</th>\n      <th>longitude</th>\n    </tr>\n  </thead>\n  <tbody>\n    <tr>\n      <th>0</th>\n      <td>ACAD</td>\n      <td>Acadia National Park</td>\n      <td>ME</td>\n      <td>47390</td>\n      <td>44.35</td>\n      <td>-68.21</td>\n    </tr>\n    <tr>\n      <th>1</th>\n      <td>ARCH</td>\n      <td>Arches National Park</td>\n      <td>UT</td>\n      <td>76519</td>\n      <td>38.68</td>\n      <td>-109.57</td>\n    </tr>\n    <tr>\n      <th>2</th>\n      <td>BADL</td>\n      <td>Badlands National Park</td>\n      <td>SD</td>\n      <td>242756</td>\n      <td>43.75</td>\n      <td>-102.50</td>\n    </tr>\n    <tr>\n      <th>3</th>\n      <td>BIBE</td>\n      <td>Big Bend National Park</td>\n      <td>TX</td>\n      <td>801163</td>\n      <td>29.25</td>\n      <td>-103.25</td>\n    </tr>\n    <tr>\n      <th>4</th>\n      <td>BISC</td>\n      <td>Biscayne National Park</td>\n      <td>FL</td>\n      <td>172924</td>\n      <td>25.65</td>\n      <td>-80.08</td>\n    </tr>\n  </tbody>\n</table>\n</div>"
     },
     "execution_count": 74,
     "metadata": {},
     "output_type": "execute_result"
    }
   ],
   "source": [
    "parks_df = pd.read_csv('csv_files/parks.csv')\n",
    "parks_df.head()"
   ],
   "metadata": {
    "collapsed": false
   }
  },
  {
   "cell_type": "markdown",
   "source": [
    "### `sw_extras.csv`\n",
    "\n",
    "Extra columns may/may not need"
   ],
   "metadata": {
    "collapsed": false
   }
  },
  {
   "cell_type": "code",
   "execution_count": 75,
   "outputs": [
    {
     "data": {
      "text/plain": "   prev_index     scientific_name        common_names occurrence nativeness  \\\n0       42081  Accipiter cooperii       Cooper's Hawk    Present     Native   \n1       42082  Accipiter gentilis    Northern Goshawk    Present     Native   \n2       42083  Accipiter striatus  Sharp-Shinned Hawk    Present     Native   \n3       42084   Aquila chrysaetos        Golden Eagle    Present     Native   \n4       42085   Buteo albonotatus    Zone-Tailed Hawk    Present     Native   \n\n  abundance seasonality  \n0    Common     Breeder  \n1    Common     Breeder  \n2    Common     Breeder  \n3  Uncommon     Breeder  \n4    Common     Breeder  ",
      "text/html": "<div>\n<style scoped>\n    .dataframe tbody tr th:only-of-type {\n        vertical-align: middle;\n    }\n\n    .dataframe tbody tr th {\n        vertical-align: top;\n    }\n\n    .dataframe thead th {\n        text-align: right;\n    }\n</style>\n<table border=\"1\" class=\"dataframe\">\n  <thead>\n    <tr style=\"text-align: right;\">\n      <th></th>\n      <th>prev_index</th>\n      <th>scientific_name</th>\n      <th>common_names</th>\n      <th>occurrence</th>\n      <th>nativeness</th>\n      <th>abundance</th>\n      <th>seasonality</th>\n    </tr>\n  </thead>\n  <tbody>\n    <tr>\n      <th>0</th>\n      <td>42081</td>\n      <td>Accipiter cooperii</td>\n      <td>Cooper's Hawk</td>\n      <td>Present</td>\n      <td>Native</td>\n      <td>Common</td>\n      <td>Breeder</td>\n    </tr>\n    <tr>\n      <th>1</th>\n      <td>42082</td>\n      <td>Accipiter gentilis</td>\n      <td>Northern Goshawk</td>\n      <td>Present</td>\n      <td>Native</td>\n      <td>Common</td>\n      <td>Breeder</td>\n    </tr>\n    <tr>\n      <th>2</th>\n      <td>42083</td>\n      <td>Accipiter striatus</td>\n      <td>Sharp-Shinned Hawk</td>\n      <td>Present</td>\n      <td>Native</td>\n      <td>Common</td>\n      <td>Breeder</td>\n    </tr>\n    <tr>\n      <th>3</th>\n      <td>42084</td>\n      <td>Aquila chrysaetos</td>\n      <td>Golden Eagle</td>\n      <td>Present</td>\n      <td>Native</td>\n      <td>Uncommon</td>\n      <td>Breeder</td>\n    </tr>\n    <tr>\n      <th>4</th>\n      <td>42085</td>\n      <td>Buteo albonotatus</td>\n      <td>Zone-Tailed Hawk</td>\n      <td>Present</td>\n      <td>Native</td>\n      <td>Common</td>\n      <td>Breeder</td>\n    </tr>\n  </tbody>\n</table>\n</div>"
     },
     "execution_count": 75,
     "metadata": {},
     "output_type": "execute_result"
    }
   ],
   "source": [
    "extras_df = pd.read_csv('csv_files/sw_extras.csv')\n",
    "extras_df.rename(columns={'Unnamed: 0': 'prev_index'}, inplace=True)\n",
    "extras_df.head()"
   ],
   "metadata": {
    "collapsed": false
   }
  },
  {
   "cell_type": "markdown",
   "source": [
    "## - `birds_df` and `extras_df` have the same index $\\in$ `prev_index`"
   ],
   "metadata": {
    "collapsed": false
   }
  },
  {
   "cell_type": "markdown",
   "source": [
    "----\n",
    "&nbsp;\n",
    "## DataFrame merges\n",
    "\n"
   ],
   "metadata": {
    "collapsed": false
   }
  },
  {
   "cell_type": "markdown",
   "source": [
    "----\n",
    "#### 1. DataFrame `sw_birds_df` from;\n",
    "- `birds_df`\n",
    "- `parks_df`\n",
    "\n",
    "Aim to retain as much data as possible, using an inner merge."
   ],
   "metadata": {
    "collapsed": false
   }
  },
  {
   "cell_type": "code",
   "execution_count": 76,
   "outputs": [
    {
     "name": "stdout",
     "output_type": "stream",
     "text": [
      "\n",
      "with shape: (6504, 13)\n"
     ]
    }
   ],
   "source": [
    "# Replace empty strings in birds_df with a placeholder value\n",
    "birds_df.loc[birds_df['raptor'] == '', 'raptor'] = '_PLACEHOLDER_'\n",
    "\n",
    "# inner merge to retain all data\n",
    "sw_birds_df = pd.merge(birds_df, parks_df, how='inner')\n",
    "\n",
    "# Replace the placeholder value with empty strings\n",
    "sw_birds_df.loc[sw_birds_df['raptor'] == '_PLACEHOLDER_', 'raptor'] = ''\n",
    "print(f\"\\nwith shape: {sw_birds_df.shape}\")"
   ],
   "metadata": {
    "collapsed": false
   }
  },
  {
   "cell_type": "markdown",
   "source": [
    "----\n",
    "#### 2. DataFrame `sw_birds_all_df` from;\n",
    "- `sw_birds_df`\n",
    "- `extras_df`\n",
    "\n",
    "Aim to retain as much data as possible, using an inner merge.\n",
    "- replace columns in `extras_df`\n",
    "- Will ultimately retain `scientific_name` and `common_names` from `birds_df`"
   ],
   "metadata": {
    "collapsed": false
   }
  },
  {
   "cell_type": "code",
   "execution_count": 77,
   "outputs": [],
   "source": [
    "extras_df = extras_df.rename(columns={'scientific_name': 'sci_loose', 'common_names': 'com_loose'})"
   ],
   "metadata": {
    "collapsed": false
   }
  },
  {
   "cell_type": "code",
   "execution_count": 78,
   "outputs": [
    {
     "name": "stdout",
     "output_type": "stream",
     "text": [
      "\n",
      "with shape: (6504, 19)\n"
     ]
    }
   ],
   "source": [
    "# inner merge to retain all data\n",
    "sw_birds_all_df = pd.merge(sw_birds_df, extras_df, how='inner')\n",
    "\n",
    "print(f\"\\nwith shape: {sw_birds_all_df.shape}\")"
   ],
   "metadata": {
    "collapsed": false
   }
  },
  {
   "cell_type": "markdown",
   "source": [
    "----\n",
    "Delete columns\n",
    "\n",
    "- `prev_index` in `sw_birds_df`\n",
    "- `prev_index`, `sci_loose` & `com_loose` from `sw_birds_all_df`\n",
    "\n",
    "DataFrames are merged in correct position with new indexes created"
   ],
   "metadata": {
    "collapsed": false
   }
  },
  {
   "cell_type": "code",
   "execution_count": 79,
   "outputs": [],
   "source": [
    "sw_birds_df.drop(columns=['prev_index'], axis=1, inplace=True)\n",
    "sw_birds_all_df.drop(columns=['prev_index', 'sci_loose', 'com_loose'], axis=1, inplace=True)"
   ],
   "metadata": {
    "collapsed": false
   }
  },
  {
   "cell_type": "code",
   "execution_count": 80,
   "outputs": [
    {
     "name": "stdout",
     "output_type": "stream",
     "text": [
      "\n",
      "sw_birds_df shape: (6504, 12)\n"
     ]
    },
    {
     "data": {
      "text/plain": "  park_code                   park_name        family     scientific_name  \\\n0      GRCA  Grand Canyon National Park  Accipitridae  Accipiter cooperii   \n1      GRCA  Grand Canyon National Park  Accipitridae  Accipiter gentilis   \n2      GRCA  Grand Canyon National Park  Accipitridae  Accipiter striatus   \n3      GRCA  Grand Canyon National Park  Accipitridae   Aquila chrysaetos   \n4      GRCA  Grand Canyon National Park  Accipitridae   Buteo albonotatus   \n\n         common_names conservation_status  protected raptor state    acres  \\\n0       Cooper's Hawk  Species of Concern       True   Hawk    AZ  1217403   \n1    Northern Goshawk       Least Concern      False   Hawk    AZ  1217403   \n2  Sharp Shinned Hawk  Species of Concern       True   Hawk    AZ  1217403   \n3        Golden Eagle  Species of Concern       True  Eagle    AZ  1217403   \n4    Zone Tailed Hawk       Least Concern      False   Hawk    AZ  1217403   \n\n   latitude  longitude  \n0     36.06    -112.14  \n1     36.06    -112.14  \n2     36.06    -112.14  \n3     36.06    -112.14  \n4     36.06    -112.14  ",
      "text/html": "<div>\n<style scoped>\n    .dataframe tbody tr th:only-of-type {\n        vertical-align: middle;\n    }\n\n    .dataframe tbody tr th {\n        vertical-align: top;\n    }\n\n    .dataframe thead th {\n        text-align: right;\n    }\n</style>\n<table border=\"1\" class=\"dataframe\">\n  <thead>\n    <tr style=\"text-align: right;\">\n      <th></th>\n      <th>park_code</th>\n      <th>park_name</th>\n      <th>family</th>\n      <th>scientific_name</th>\n      <th>common_names</th>\n      <th>conservation_status</th>\n      <th>protected</th>\n      <th>raptor</th>\n      <th>state</th>\n      <th>acres</th>\n      <th>latitude</th>\n      <th>longitude</th>\n    </tr>\n  </thead>\n  <tbody>\n    <tr>\n      <th>0</th>\n      <td>GRCA</td>\n      <td>Grand Canyon National Park</td>\n      <td>Accipitridae</td>\n      <td>Accipiter cooperii</td>\n      <td>Cooper's Hawk</td>\n      <td>Species of Concern</td>\n      <td>True</td>\n      <td>Hawk</td>\n      <td>AZ</td>\n      <td>1217403</td>\n      <td>36.06</td>\n      <td>-112.14</td>\n    </tr>\n    <tr>\n      <th>1</th>\n      <td>GRCA</td>\n      <td>Grand Canyon National Park</td>\n      <td>Accipitridae</td>\n      <td>Accipiter gentilis</td>\n      <td>Northern Goshawk</td>\n      <td>Least Concern</td>\n      <td>False</td>\n      <td>Hawk</td>\n      <td>AZ</td>\n      <td>1217403</td>\n      <td>36.06</td>\n      <td>-112.14</td>\n    </tr>\n    <tr>\n      <th>2</th>\n      <td>GRCA</td>\n      <td>Grand Canyon National Park</td>\n      <td>Accipitridae</td>\n      <td>Accipiter striatus</td>\n      <td>Sharp Shinned Hawk</td>\n      <td>Species of Concern</td>\n      <td>True</td>\n      <td>Hawk</td>\n      <td>AZ</td>\n      <td>1217403</td>\n      <td>36.06</td>\n      <td>-112.14</td>\n    </tr>\n    <tr>\n      <th>3</th>\n      <td>GRCA</td>\n      <td>Grand Canyon National Park</td>\n      <td>Accipitridae</td>\n      <td>Aquila chrysaetos</td>\n      <td>Golden Eagle</td>\n      <td>Species of Concern</td>\n      <td>True</td>\n      <td>Eagle</td>\n      <td>AZ</td>\n      <td>1217403</td>\n      <td>36.06</td>\n      <td>-112.14</td>\n    </tr>\n    <tr>\n      <th>4</th>\n      <td>GRCA</td>\n      <td>Grand Canyon National Park</td>\n      <td>Accipitridae</td>\n      <td>Buteo albonotatus</td>\n      <td>Zone Tailed Hawk</td>\n      <td>Least Concern</td>\n      <td>False</td>\n      <td>Hawk</td>\n      <td>AZ</td>\n      <td>1217403</td>\n      <td>36.06</td>\n      <td>-112.14</td>\n    </tr>\n  </tbody>\n</table>\n</div>"
     },
     "execution_count": 80,
     "metadata": {},
     "output_type": "execute_result"
    }
   ],
   "source": [
    "print(f\"\\nsw_birds_df shape: {sw_birds_df.shape}\")\n",
    "sw_birds_df.head()"
   ],
   "metadata": {
    "collapsed": false
   }
  },
  {
   "cell_type": "code",
   "execution_count": 81,
   "outputs": [
    {
     "name": "stdout",
     "output_type": "stream",
     "text": [
      "\n",
      "sw_birds_all_df shape: (6504, 16)\n",
      "\n",
      "With columns; \n",
      "['park_code', 'park_name', 'family', 'scientific_name', 'common_names', 'conservation_status', 'protected', 'raptor', 'state', 'acres', 'latitude', 'longitude', 'occurrence', 'nativeness', 'abundance', 'seasonality']\n"
     ]
    }
   ],
   "source": [
    "meta_df_cols = sw_birds_all_df.columns.tolist()\n",
    "print(f\"\\nsw_birds_all_df shape: {sw_birds_all_df.shape}\\n\")\n",
    "print(f\"With columns; \\n{meta_df_cols}\")"
   ],
   "metadata": {
    "collapsed": false
   }
  },
  {
   "cell_type": "markdown",
   "source": [
    "----\n",
    "# Analysis\n"
   ],
   "metadata": {
    "collapsed": false
   }
  },
  {
   "cell_type": "markdown",
   "source": [
    "### `sw_birds_df` inspection\n",
    "\n",
    "Have retained `sw_birds_all_all` which is the meta DataFrame for (possible) use at a later date"
   ],
   "metadata": {
    "collapsed": false
   }
  }
 ],
 "metadata": {
  "kernelspec": {
   "display_name": "Python 3",
   "language": "python",
   "name": "python3"
  },
  "language_info": {
   "codemirror_mode": {
    "name": "ipython",
    "version": 2
   },
   "file_extension": ".py",
   "mimetype": "text/x-python",
   "name": "python",
   "nbconvert_exporter": "python",
   "pygments_lexer": "ipython2",
   "version": "2.7.6"
  }
 },
 "nbformat": 4,
 "nbformat_minor": 0
}
