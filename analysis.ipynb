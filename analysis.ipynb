{
 "cells": [
  {
   "cell_type": "markdown",
   "source": [
    "# Biodiversity in U.S. National Parks"
   ],
   "metadata": {
    "collapsed": false
   }
  },
  {
   "cell_type": "markdown",
   "source": [
    "## North American Birds of Prey"
   ],
   "metadata": {
    "collapsed": false
   }
  },
  {
   "cell_type": "markdown",
   "source": [
    "### Data has been cleaned in `wrangling.ipynb`"
   ],
   "metadata": {
    "collapsed": false
   }
  },
  {
   "cell_type": "code",
   "execution_count": 1,
   "metadata": {
    "collapsed": true
   },
   "outputs": [],
   "source": [
    "# Importing the necessary modules\n",
    "import pandas as pd\n",
    "import matplotlib.pyplot as plt\n",
    "import matplotlib.patches as mpatches\n",
    "import plotly.express as px\n",
    "import seaborn as sns\n",
    "import numpy as np"
   ]
  },
  {
   "cell_type": "markdown",
   "source": [
    "## Loading in .csv files"
   ],
   "metadata": {
    "collapsed": false
   }
  },
  {
   "cell_type": "markdown",
   "source": [
    "### `sw_birds.csv`"
   ],
   "metadata": {
    "collapsed": false
   }
  },
  {
   "cell_type": "code",
   "execution_count": 5,
   "outputs": [
    {
     "data": {
      "text/plain": "   prev_index park_code                   park_name        family  \\\n0       42081      GRCA  Grand Canyon National Park  Accipitridae   \n1       42082      GRCA  Grand Canyon National Park  Accipitridae   \n2       42083      GRCA  Grand Canyon National Park  Accipitridae   \n3       42084      GRCA  Grand Canyon National Park  Accipitridae   \n4       42085      GRCA  Grand Canyon National Park  Accipitridae   \n\n      scientific_name        common_names conservation_status  protected  \\\n0  Accipiter cooperii       Cooper's Hawk  Species of Concern       True   \n1  Accipiter gentilis    Northern Goshawk       Least Concern      False   \n2  Accipiter striatus  Sharp Shinned Hawk  Species of Concern       True   \n3   Aquila chrysaetos        Golden Eagle  Species of Concern       True   \n4   Buteo albonotatus    Zone Tailed Hawk       Least Concern      False   \n\n  raptor  \n0   Hawk  \n1   Hawk  \n2   Hawk  \n3  Eagle  \n4   Hawk  ",
      "text/html": "<div>\n<style scoped>\n    .dataframe tbody tr th:only-of-type {\n        vertical-align: middle;\n    }\n\n    .dataframe tbody tr th {\n        vertical-align: top;\n    }\n\n    .dataframe thead th {\n        text-align: right;\n    }\n</style>\n<table border=\"1\" class=\"dataframe\">\n  <thead>\n    <tr style=\"text-align: right;\">\n      <th></th>\n      <th>prev_index</th>\n      <th>park_code</th>\n      <th>park_name</th>\n      <th>family</th>\n      <th>scientific_name</th>\n      <th>common_names</th>\n      <th>conservation_status</th>\n      <th>protected</th>\n      <th>raptor</th>\n    </tr>\n  </thead>\n  <tbody>\n    <tr>\n      <th>0</th>\n      <td>42081</td>\n      <td>GRCA</td>\n      <td>Grand Canyon National Park</td>\n      <td>Accipitridae</td>\n      <td>Accipiter cooperii</td>\n      <td>Cooper's Hawk</td>\n      <td>Species of Concern</td>\n      <td>True</td>\n      <td>Hawk</td>\n    </tr>\n    <tr>\n      <th>1</th>\n      <td>42082</td>\n      <td>GRCA</td>\n      <td>Grand Canyon National Park</td>\n      <td>Accipitridae</td>\n      <td>Accipiter gentilis</td>\n      <td>Northern Goshawk</td>\n      <td>Least Concern</td>\n      <td>False</td>\n      <td>Hawk</td>\n    </tr>\n    <tr>\n      <th>2</th>\n      <td>42083</td>\n      <td>GRCA</td>\n      <td>Grand Canyon National Park</td>\n      <td>Accipitridae</td>\n      <td>Accipiter striatus</td>\n      <td>Sharp Shinned Hawk</td>\n      <td>Species of Concern</td>\n      <td>True</td>\n      <td>Hawk</td>\n    </tr>\n    <tr>\n      <th>3</th>\n      <td>42084</td>\n      <td>GRCA</td>\n      <td>Grand Canyon National Park</td>\n      <td>Accipitridae</td>\n      <td>Aquila chrysaetos</td>\n      <td>Golden Eagle</td>\n      <td>Species of Concern</td>\n      <td>True</td>\n      <td>Eagle</td>\n    </tr>\n    <tr>\n      <th>4</th>\n      <td>42085</td>\n      <td>GRCA</td>\n      <td>Grand Canyon National Park</td>\n      <td>Accipitridae</td>\n      <td>Buteo albonotatus</td>\n      <td>Zone Tailed Hawk</td>\n      <td>Least Concern</td>\n      <td>False</td>\n      <td>Hawk</td>\n    </tr>\n  </tbody>\n</table>\n</div>"
     },
     "execution_count": 5,
     "metadata": {},
     "output_type": "execute_result"
    }
   ],
   "source": [
    "birds_df = pd.read_csv('sw_birds.csv')\n",
    "birds_df.rename(columns={'Unnamed: 0': 'prev_index'}, inplace=True)\n",
    "birds_df.head()"
   ],
   "metadata": {
    "collapsed": false
   }
  },
  {
   "cell_type": "markdown",
   "source": [
    "### `sw_data.csv`"
   ],
   "metadata": {
    "collapsed": false
   }
  },
  {
   "cell_type": "code",
   "execution_count": 6,
   "outputs": [
    {
     "data": {
      "text/plain": "  park_code                       park_name state    acres  latitude  \\\n0      GRCA      Grand Canyon National Park    AZ  1217403     36.06   \n1      PEFO  Petrified Forest National Park    AZ    93533     35.07   \n2      SAGU           Saguaro National Park    AZ    91440     32.25   \n3      CHIS   Channel Islands National Park    CA   249561     34.01   \n4      JOTR       Joshua Tree National Park    CA   789745     33.79   \n\n   longitude  \n0    -112.14  \n1    -109.78  \n2    -110.50  \n3    -119.42  \n4    -115.90  ",
      "text/html": "<div>\n<style scoped>\n    .dataframe tbody tr th:only-of-type {\n        vertical-align: middle;\n    }\n\n    .dataframe tbody tr th {\n        vertical-align: top;\n    }\n\n    .dataframe thead th {\n        text-align: right;\n    }\n</style>\n<table border=\"1\" class=\"dataframe\">\n  <thead>\n    <tr style=\"text-align: right;\">\n      <th></th>\n      <th>park_code</th>\n      <th>park_name</th>\n      <th>state</th>\n      <th>acres</th>\n      <th>latitude</th>\n      <th>longitude</th>\n    </tr>\n  </thead>\n  <tbody>\n    <tr>\n      <th>0</th>\n      <td>GRCA</td>\n      <td>Grand Canyon National Park</td>\n      <td>AZ</td>\n      <td>1217403</td>\n      <td>36.06</td>\n      <td>-112.14</td>\n    </tr>\n    <tr>\n      <th>1</th>\n      <td>PEFO</td>\n      <td>Petrified Forest National Park</td>\n      <td>AZ</td>\n      <td>93533</td>\n      <td>35.07</td>\n      <td>-109.78</td>\n    </tr>\n    <tr>\n      <th>2</th>\n      <td>SAGU</td>\n      <td>Saguaro National Park</td>\n      <td>AZ</td>\n      <td>91440</td>\n      <td>32.25</td>\n      <td>-110.50</td>\n    </tr>\n    <tr>\n      <th>3</th>\n      <td>CHIS</td>\n      <td>Channel Islands National Park</td>\n      <td>CA</td>\n      <td>249561</td>\n      <td>34.01</td>\n      <td>-119.42</td>\n    </tr>\n    <tr>\n      <th>4</th>\n      <td>JOTR</td>\n      <td>Joshua Tree National Park</td>\n      <td>CA</td>\n      <td>789745</td>\n      <td>33.79</td>\n      <td>-115.90</td>\n    </tr>\n  </tbody>\n</table>\n</div>"
     },
     "execution_count": 6,
     "metadata": {},
     "output_type": "execute_result"
    }
   ],
   "source": [
    "parks_df = pd.read_csv('sw_data.csv')\n",
    "parks_df.head()"
   ],
   "metadata": {
    "collapsed": false
   }
  },
  {
   "cell_type": "markdown",
   "source": [
    "### `sw_extras.csv`\n",
    "\n",
    "Extra columns may/may not need"
   ],
   "metadata": {
    "collapsed": false
   }
  },
  {
   "cell_type": "code",
   "execution_count": 9,
   "outputs": [
    {
     "data": {
      "text/plain": "   prev_index     scientific_name        common_names occurrence nativeness  \\\n0       42081  Accipiter cooperii       Cooper's Hawk    Present     Native   \n1       42082  Accipiter gentilis    Northern Goshawk    Present     Native   \n2       42083  Accipiter striatus  Sharp-Shinned Hawk    Present     Native   \n3       42084   Aquila chrysaetos        Golden Eagle    Present     Native   \n4       42085   Buteo albonotatus    Zone-Tailed Hawk    Present     Native   \n\n  abundance seasonality  \n0    Common     Breeder  \n1    Common     Breeder  \n2    Common     Breeder  \n3  Uncommon     Breeder  \n4    Common     Breeder  ",
      "text/html": "<div>\n<style scoped>\n    .dataframe tbody tr th:only-of-type {\n        vertical-align: middle;\n    }\n\n    .dataframe tbody tr th {\n        vertical-align: top;\n    }\n\n    .dataframe thead th {\n        text-align: right;\n    }\n</style>\n<table border=\"1\" class=\"dataframe\">\n  <thead>\n    <tr style=\"text-align: right;\">\n      <th></th>\n      <th>prev_index</th>\n      <th>scientific_name</th>\n      <th>common_names</th>\n      <th>occurrence</th>\n      <th>nativeness</th>\n      <th>abundance</th>\n      <th>seasonality</th>\n    </tr>\n  </thead>\n  <tbody>\n    <tr>\n      <th>0</th>\n      <td>42081</td>\n      <td>Accipiter cooperii</td>\n      <td>Cooper's Hawk</td>\n      <td>Present</td>\n      <td>Native</td>\n      <td>Common</td>\n      <td>Breeder</td>\n    </tr>\n    <tr>\n      <th>1</th>\n      <td>42082</td>\n      <td>Accipiter gentilis</td>\n      <td>Northern Goshawk</td>\n      <td>Present</td>\n      <td>Native</td>\n      <td>Common</td>\n      <td>Breeder</td>\n    </tr>\n    <tr>\n      <th>2</th>\n      <td>42083</td>\n      <td>Accipiter striatus</td>\n      <td>Sharp-Shinned Hawk</td>\n      <td>Present</td>\n      <td>Native</td>\n      <td>Common</td>\n      <td>Breeder</td>\n    </tr>\n    <tr>\n      <th>3</th>\n      <td>42084</td>\n      <td>Aquila chrysaetos</td>\n      <td>Golden Eagle</td>\n      <td>Present</td>\n      <td>Native</td>\n      <td>Uncommon</td>\n      <td>Breeder</td>\n    </tr>\n    <tr>\n      <th>4</th>\n      <td>42085</td>\n      <td>Buteo albonotatus</td>\n      <td>Zone-Tailed Hawk</td>\n      <td>Present</td>\n      <td>Native</td>\n      <td>Common</td>\n      <td>Breeder</td>\n    </tr>\n  </tbody>\n</table>\n</div>"
     },
     "execution_count": 9,
     "metadata": {},
     "output_type": "execute_result"
    }
   ],
   "source": [
    "extras_df = pd.read_csv('sw_extras.csv')\n",
    "extras_df.rename(columns={'Unnamed: 0': 'prev_index'}, inplace=True)\n",
    "extras_df.head()"
   ],
   "metadata": {
    "collapsed": false
   }
  },
  {
   "cell_type": "markdown",
   "source": [
    "## - `birds_df` and `extras_df` have the same index $\\in$ `prev_index`"
   ],
   "metadata": {
    "collapsed": false
   }
  },
  {
   "cell_type": "markdown",
   "source": [],
   "metadata": {
    "collapsed": false
   }
  }
 ],
 "metadata": {
  "kernelspec": {
   "display_name": "Python 3",
   "language": "python",
   "name": "python3"
  },
  "language_info": {
   "codemirror_mode": {
    "name": "ipython",
    "version": 2
   },
   "file_extension": ".py",
   "mimetype": "text/x-python",
   "name": "python",
   "nbconvert_exporter": "python",
   "pygments_lexer": "ipython2",
   "version": "2.7.6"
  }
 },
 "nbformat": 4,
 "nbformat_minor": 0
}
