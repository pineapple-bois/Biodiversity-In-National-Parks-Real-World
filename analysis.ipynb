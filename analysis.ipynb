{
 "cells": [
  {
   "cell_type": "markdown",
   "source": [
    "# Biodiversity in U.S. National Parks"
   ],
   "metadata": {
    "collapsed": false
   }
  },
  {
   "cell_type": "markdown",
   "source": [
    "## North American Birds of Prey"
   ],
   "metadata": {
    "collapsed": false
   }
  },
  {
   "cell_type": "markdown",
   "source": [
    "### Data has been cleaned in `wrangling.ipynb`"
   ],
   "metadata": {
    "collapsed": false
   }
  },
  {
   "cell_type": "code",
   "execution_count": 177,
   "metadata": {
    "collapsed": true
   },
   "outputs": [],
   "source": [
    "# Importing the necessary modules\n",
    "import pandas as pd\n",
    "import matplotlib.pyplot as plt\n",
    "import matplotlib.patches as mpatches\n",
    "import plotly.express as px\n",
    "import seaborn as sns\n",
    "import numpy as np"
   ]
  },
  {
   "cell_type": "markdown",
   "source": [
    "## Loading in .csv files"
   ],
   "metadata": {
    "collapsed": false
   }
  },
  {
   "cell_type": "markdown",
   "source": [
    "### `sw_birds.csv`"
   ],
   "metadata": {
    "collapsed": false
   }
  },
  {
   "cell_type": "code",
   "execution_count": 178,
   "outputs": [
    {
     "data": {
      "text/plain": "   prev_index park_code                   park_name        family  \\\n0       42081      GRCA  Grand Canyon National Park  Accipitridae   \n1       42082      GRCA  Grand Canyon National Park  Accipitridae   \n2       42083      GRCA  Grand Canyon National Park  Accipitridae   \n3       42084      GRCA  Grand Canyon National Park  Accipitridae   \n4       42085      GRCA  Grand Canyon National Park  Accipitridae   \n\n      scientific_name        common_names conservation_status  protected  \\\n0  Accipiter cooperii       Cooper's Hawk  Species of Concern       True   \n1  Accipiter gentilis    Northern Goshawk       Least Concern      False   \n2  Accipiter striatus  Sharp Shinned Hawk  Species of Concern       True   \n3   Aquila chrysaetos        Golden Eagle  Species of Concern       True   \n4   Buteo albonotatus    Zone Tailed Hawk       Least Concern      False   \n\n  raptor  \n0   Hawk  \n1   Hawk  \n2   Hawk  \n3  Eagle  \n4   Hawk  ",
      "text/html": "<div>\n<style scoped>\n    .dataframe tbody tr th:only-of-type {\n        vertical-align: middle;\n    }\n\n    .dataframe tbody tr th {\n        vertical-align: top;\n    }\n\n    .dataframe thead th {\n        text-align: right;\n    }\n</style>\n<table border=\"1\" class=\"dataframe\">\n  <thead>\n    <tr style=\"text-align: right;\">\n      <th></th>\n      <th>prev_index</th>\n      <th>park_code</th>\n      <th>park_name</th>\n      <th>family</th>\n      <th>scientific_name</th>\n      <th>common_names</th>\n      <th>conservation_status</th>\n      <th>protected</th>\n      <th>raptor</th>\n    </tr>\n  </thead>\n  <tbody>\n    <tr>\n      <th>0</th>\n      <td>42081</td>\n      <td>GRCA</td>\n      <td>Grand Canyon National Park</td>\n      <td>Accipitridae</td>\n      <td>Accipiter cooperii</td>\n      <td>Cooper's Hawk</td>\n      <td>Species of Concern</td>\n      <td>True</td>\n      <td>Hawk</td>\n    </tr>\n    <tr>\n      <th>1</th>\n      <td>42082</td>\n      <td>GRCA</td>\n      <td>Grand Canyon National Park</td>\n      <td>Accipitridae</td>\n      <td>Accipiter gentilis</td>\n      <td>Northern Goshawk</td>\n      <td>Least Concern</td>\n      <td>False</td>\n      <td>Hawk</td>\n    </tr>\n    <tr>\n      <th>2</th>\n      <td>42083</td>\n      <td>GRCA</td>\n      <td>Grand Canyon National Park</td>\n      <td>Accipitridae</td>\n      <td>Accipiter striatus</td>\n      <td>Sharp Shinned Hawk</td>\n      <td>Species of Concern</td>\n      <td>True</td>\n      <td>Hawk</td>\n    </tr>\n    <tr>\n      <th>3</th>\n      <td>42084</td>\n      <td>GRCA</td>\n      <td>Grand Canyon National Park</td>\n      <td>Accipitridae</td>\n      <td>Aquila chrysaetos</td>\n      <td>Golden Eagle</td>\n      <td>Species of Concern</td>\n      <td>True</td>\n      <td>Eagle</td>\n    </tr>\n    <tr>\n      <th>4</th>\n      <td>42085</td>\n      <td>GRCA</td>\n      <td>Grand Canyon National Park</td>\n      <td>Accipitridae</td>\n      <td>Buteo albonotatus</td>\n      <td>Zone Tailed Hawk</td>\n      <td>Least Concern</td>\n      <td>False</td>\n      <td>Hawk</td>\n    </tr>\n  </tbody>\n</table>\n</div>"
     },
     "execution_count": 178,
     "metadata": {},
     "output_type": "execute_result"
    }
   ],
   "source": [
    "birds_df = pd.read_csv('csv_files/sw_birds.csv')\n",
    "birds_df.rename(columns={'Unnamed: 0': 'prev_index'}, inplace=True)\n",
    "birds_df.head()"
   ],
   "metadata": {
    "collapsed": false
   }
  },
  {
   "cell_type": "markdown",
   "source": [
    "### `sw_data.csv`"
   ],
   "metadata": {
    "collapsed": false
   }
  },
  {
   "cell_type": "code",
   "execution_count": 179,
   "outputs": [
    {
     "data": {
      "text/plain": "  park_code               park_name state   acres  latitude  longitude\n0      ACAD    Acadia National Park    ME   47390     44.35     -68.21\n1      ARCH    Arches National Park    UT   76519     38.68    -109.57\n2      BADL  Badlands National Park    SD  242756     43.75    -102.50\n3      BIBE  Big Bend National Park    TX  801163     29.25    -103.25\n4      BISC  Biscayne National Park    FL  172924     25.65     -80.08",
      "text/html": "<div>\n<style scoped>\n    .dataframe tbody tr th:only-of-type {\n        vertical-align: middle;\n    }\n\n    .dataframe tbody tr th {\n        vertical-align: top;\n    }\n\n    .dataframe thead th {\n        text-align: right;\n    }\n</style>\n<table border=\"1\" class=\"dataframe\">\n  <thead>\n    <tr style=\"text-align: right;\">\n      <th></th>\n      <th>park_code</th>\n      <th>park_name</th>\n      <th>state</th>\n      <th>acres</th>\n      <th>latitude</th>\n      <th>longitude</th>\n    </tr>\n  </thead>\n  <tbody>\n    <tr>\n      <th>0</th>\n      <td>ACAD</td>\n      <td>Acadia National Park</td>\n      <td>ME</td>\n      <td>47390</td>\n      <td>44.35</td>\n      <td>-68.21</td>\n    </tr>\n    <tr>\n      <th>1</th>\n      <td>ARCH</td>\n      <td>Arches National Park</td>\n      <td>UT</td>\n      <td>76519</td>\n      <td>38.68</td>\n      <td>-109.57</td>\n    </tr>\n    <tr>\n      <th>2</th>\n      <td>BADL</td>\n      <td>Badlands National Park</td>\n      <td>SD</td>\n      <td>242756</td>\n      <td>43.75</td>\n      <td>-102.50</td>\n    </tr>\n    <tr>\n      <th>3</th>\n      <td>BIBE</td>\n      <td>Big Bend National Park</td>\n      <td>TX</td>\n      <td>801163</td>\n      <td>29.25</td>\n      <td>-103.25</td>\n    </tr>\n    <tr>\n      <th>4</th>\n      <td>BISC</td>\n      <td>Biscayne National Park</td>\n      <td>FL</td>\n      <td>172924</td>\n      <td>25.65</td>\n      <td>-80.08</td>\n    </tr>\n  </tbody>\n</table>\n</div>"
     },
     "execution_count": 179,
     "metadata": {},
     "output_type": "execute_result"
    }
   ],
   "source": [
    "parks_df = pd.read_csv('csv_files/parks.csv')\n",
    "parks_df.head()"
   ],
   "metadata": {
    "collapsed": false
   }
  },
  {
   "cell_type": "markdown",
   "source": [
    "### `sw_extras.csv`\n",
    "\n",
    "Extra columns may/may not need"
   ],
   "metadata": {
    "collapsed": false
   }
  },
  {
   "cell_type": "code",
   "execution_count": 180,
   "outputs": [
    {
     "data": {
      "text/plain": "   prev_index     scientific_name        common_names occurrence nativeness  \\\n0       42081  Accipiter cooperii       Cooper's Hawk    Present     Native   \n1       42082  Accipiter gentilis    Northern Goshawk    Present     Native   \n2       42083  Accipiter striatus  Sharp-Shinned Hawk    Present     Native   \n3       42084   Aquila chrysaetos        Golden Eagle    Present     Native   \n4       42085   Buteo albonotatus    Zone-Tailed Hawk    Present     Native   \n\n  abundance seasonality  \n0    Common     Breeder  \n1    Common     Breeder  \n2    Common     Breeder  \n3  Uncommon     Breeder  \n4    Common     Breeder  ",
      "text/html": "<div>\n<style scoped>\n    .dataframe tbody tr th:only-of-type {\n        vertical-align: middle;\n    }\n\n    .dataframe tbody tr th {\n        vertical-align: top;\n    }\n\n    .dataframe thead th {\n        text-align: right;\n    }\n</style>\n<table border=\"1\" class=\"dataframe\">\n  <thead>\n    <tr style=\"text-align: right;\">\n      <th></th>\n      <th>prev_index</th>\n      <th>scientific_name</th>\n      <th>common_names</th>\n      <th>occurrence</th>\n      <th>nativeness</th>\n      <th>abundance</th>\n      <th>seasonality</th>\n    </tr>\n  </thead>\n  <tbody>\n    <tr>\n      <th>0</th>\n      <td>42081</td>\n      <td>Accipiter cooperii</td>\n      <td>Cooper's Hawk</td>\n      <td>Present</td>\n      <td>Native</td>\n      <td>Common</td>\n      <td>Breeder</td>\n    </tr>\n    <tr>\n      <th>1</th>\n      <td>42082</td>\n      <td>Accipiter gentilis</td>\n      <td>Northern Goshawk</td>\n      <td>Present</td>\n      <td>Native</td>\n      <td>Common</td>\n      <td>Breeder</td>\n    </tr>\n    <tr>\n      <th>2</th>\n      <td>42083</td>\n      <td>Accipiter striatus</td>\n      <td>Sharp-Shinned Hawk</td>\n      <td>Present</td>\n      <td>Native</td>\n      <td>Common</td>\n      <td>Breeder</td>\n    </tr>\n    <tr>\n      <th>3</th>\n      <td>42084</td>\n      <td>Aquila chrysaetos</td>\n      <td>Golden Eagle</td>\n      <td>Present</td>\n      <td>Native</td>\n      <td>Uncommon</td>\n      <td>Breeder</td>\n    </tr>\n    <tr>\n      <th>4</th>\n      <td>42085</td>\n      <td>Buteo albonotatus</td>\n      <td>Zone-Tailed Hawk</td>\n      <td>Present</td>\n      <td>Native</td>\n      <td>Common</td>\n      <td>Breeder</td>\n    </tr>\n  </tbody>\n</table>\n</div>"
     },
     "execution_count": 180,
     "metadata": {},
     "output_type": "execute_result"
    }
   ],
   "source": [
    "extras_df = pd.read_csv('csv_files/sw_extras.csv')\n",
    "extras_df.rename(columns={'Unnamed: 0': 'prev_index'}, inplace=True)\n",
    "extras_df.head()"
   ],
   "metadata": {
    "collapsed": false
   }
  },
  {
   "cell_type": "markdown",
   "source": [
    "## - `birds_df` and `extras_df` have the same index $\\in$ `prev_index`"
   ],
   "metadata": {
    "collapsed": false
   }
  },
  {
   "cell_type": "markdown",
   "source": [
    "----\n",
    "&nbsp;\n",
    "## DataFrame merges\n",
    "\n"
   ],
   "metadata": {
    "collapsed": false
   }
  },
  {
   "cell_type": "markdown",
   "source": [
    "----\n",
    "#### 1. DataFrame `sw_birds_df` from;\n",
    "- `birds_df`\n",
    "- `parks_df`\n",
    "\n",
    "Aim to retain as much data as possible, using an inner merge."
   ],
   "metadata": {
    "collapsed": false
   }
  },
  {
   "cell_type": "code",
   "execution_count": 181,
   "outputs": [
    {
     "name": "stdout",
     "output_type": "stream",
     "text": [
      "\n",
      "with shape: (6504, 13)\n"
     ]
    }
   ],
   "source": [
    "# Replace empty strings in birds_df with a placeholder value\n",
    "birds_df.loc[birds_df['raptor'] == '', 'raptor'] = '_PLACEHOLDER_'\n",
    "\n",
    "# inner merge to retain all data\n",
    "sw_birds_df = pd.merge(birds_df, parks_df, how='inner')\n",
    "\n",
    "# Replace the placeholder value with empty strings\n",
    "sw_birds_df.loc[sw_birds_df['raptor'] == '_PLACEHOLDER_', 'raptor'] = ''\n",
    "print(f\"\\nwith shape: {sw_birds_df.shape}\")"
   ],
   "metadata": {
    "collapsed": false
   }
  },
  {
   "cell_type": "markdown",
   "source": [
    "----\n",
    "#### 2. DataFrame `sw_birds_all_df` from;\n",
    "- `sw_birds_df`\n",
    "- `extras_df`\n",
    "\n",
    "Aim to retain as much data as possible, using an inner merge.\n",
    "- replace columns in `extras_df`\n",
    "- Will ultimately retain `scientific_name` and `common_names` from `birds_df`"
   ],
   "metadata": {
    "collapsed": false
   }
  },
  {
   "cell_type": "code",
   "execution_count": 182,
   "outputs": [],
   "source": [
    "extras_df = extras_df.rename(columns={'scientific_name': 'sci_loose', 'common_names': 'com_loose'})"
   ],
   "metadata": {
    "collapsed": false
   }
  },
  {
   "cell_type": "code",
   "execution_count": 183,
   "outputs": [
    {
     "name": "stdout",
     "output_type": "stream",
     "text": [
      "\n",
      "with shape: (6504, 19)\n"
     ]
    }
   ],
   "source": [
    "# inner merge to retain all data\n",
    "sw_birds_all_df = pd.merge(sw_birds_df, extras_df, how='inner')\n",
    "\n",
    "print(f\"\\nwith shape: {sw_birds_all_df.shape}\")"
   ],
   "metadata": {
    "collapsed": false
   }
  },
  {
   "cell_type": "markdown",
   "source": [
    "----\n",
    "Delete columns\n",
    "\n",
    "- `prev_index` in `sw_birds_df`\n",
    "- `prev_index`, `sci_loose` & `com_loose` from `sw_birds_all_df`\n",
    "\n",
    "DataFrames are merged in correct position with new indexes created"
   ],
   "metadata": {
    "collapsed": false
   }
  },
  {
   "cell_type": "code",
   "execution_count": 184,
   "outputs": [],
   "source": [
    "sw_birds_df.drop(columns=['prev_index'], axis=1, inplace=True)\n",
    "sw_birds_all_df.drop(columns=['prev_index', 'sci_loose', 'com_loose'], axis=1, inplace=True)"
   ],
   "metadata": {
    "collapsed": false
   }
  },
  {
   "cell_type": "code",
   "execution_count": 185,
   "outputs": [
    {
     "name": "stdout",
     "output_type": "stream",
     "text": [
      "\n",
      "sw_birds_df shape: (6504, 12)\n"
     ]
    },
    {
     "data": {
      "text/plain": "  park_code                   park_name        family     scientific_name  \\\n0      GRCA  Grand Canyon National Park  Accipitridae  Accipiter cooperii   \n1      GRCA  Grand Canyon National Park  Accipitridae  Accipiter gentilis   \n2      GRCA  Grand Canyon National Park  Accipitridae  Accipiter striatus   \n3      GRCA  Grand Canyon National Park  Accipitridae   Aquila chrysaetos   \n4      GRCA  Grand Canyon National Park  Accipitridae   Buteo albonotatus   \n\n         common_names conservation_status  protected raptor state    acres  \\\n0       Cooper's Hawk  Species of Concern       True   Hawk    AZ  1217403   \n1    Northern Goshawk       Least Concern      False   Hawk    AZ  1217403   \n2  Sharp Shinned Hawk  Species of Concern       True   Hawk    AZ  1217403   \n3        Golden Eagle  Species of Concern       True  Eagle    AZ  1217403   \n4    Zone Tailed Hawk       Least Concern      False   Hawk    AZ  1217403   \n\n   latitude  longitude  \n0     36.06    -112.14  \n1     36.06    -112.14  \n2     36.06    -112.14  \n3     36.06    -112.14  \n4     36.06    -112.14  ",
      "text/html": "<div>\n<style scoped>\n    .dataframe tbody tr th:only-of-type {\n        vertical-align: middle;\n    }\n\n    .dataframe tbody tr th {\n        vertical-align: top;\n    }\n\n    .dataframe thead th {\n        text-align: right;\n    }\n</style>\n<table border=\"1\" class=\"dataframe\">\n  <thead>\n    <tr style=\"text-align: right;\">\n      <th></th>\n      <th>park_code</th>\n      <th>park_name</th>\n      <th>family</th>\n      <th>scientific_name</th>\n      <th>common_names</th>\n      <th>conservation_status</th>\n      <th>protected</th>\n      <th>raptor</th>\n      <th>state</th>\n      <th>acres</th>\n      <th>latitude</th>\n      <th>longitude</th>\n    </tr>\n  </thead>\n  <tbody>\n    <tr>\n      <th>0</th>\n      <td>GRCA</td>\n      <td>Grand Canyon National Park</td>\n      <td>Accipitridae</td>\n      <td>Accipiter cooperii</td>\n      <td>Cooper's Hawk</td>\n      <td>Species of Concern</td>\n      <td>True</td>\n      <td>Hawk</td>\n      <td>AZ</td>\n      <td>1217403</td>\n      <td>36.06</td>\n      <td>-112.14</td>\n    </tr>\n    <tr>\n      <th>1</th>\n      <td>GRCA</td>\n      <td>Grand Canyon National Park</td>\n      <td>Accipitridae</td>\n      <td>Accipiter gentilis</td>\n      <td>Northern Goshawk</td>\n      <td>Least Concern</td>\n      <td>False</td>\n      <td>Hawk</td>\n      <td>AZ</td>\n      <td>1217403</td>\n      <td>36.06</td>\n      <td>-112.14</td>\n    </tr>\n    <tr>\n      <th>2</th>\n      <td>GRCA</td>\n      <td>Grand Canyon National Park</td>\n      <td>Accipitridae</td>\n      <td>Accipiter striatus</td>\n      <td>Sharp Shinned Hawk</td>\n      <td>Species of Concern</td>\n      <td>True</td>\n      <td>Hawk</td>\n      <td>AZ</td>\n      <td>1217403</td>\n      <td>36.06</td>\n      <td>-112.14</td>\n    </tr>\n    <tr>\n      <th>3</th>\n      <td>GRCA</td>\n      <td>Grand Canyon National Park</td>\n      <td>Accipitridae</td>\n      <td>Aquila chrysaetos</td>\n      <td>Golden Eagle</td>\n      <td>Species of Concern</td>\n      <td>True</td>\n      <td>Eagle</td>\n      <td>AZ</td>\n      <td>1217403</td>\n      <td>36.06</td>\n      <td>-112.14</td>\n    </tr>\n    <tr>\n      <th>4</th>\n      <td>GRCA</td>\n      <td>Grand Canyon National Park</td>\n      <td>Accipitridae</td>\n      <td>Buteo albonotatus</td>\n      <td>Zone Tailed Hawk</td>\n      <td>Least Concern</td>\n      <td>False</td>\n      <td>Hawk</td>\n      <td>AZ</td>\n      <td>1217403</td>\n      <td>36.06</td>\n      <td>-112.14</td>\n    </tr>\n  </tbody>\n</table>\n</div>"
     },
     "execution_count": 185,
     "metadata": {},
     "output_type": "execute_result"
    }
   ],
   "source": [
    "print(f\"\\nsw_birds_df shape: {sw_birds_df.shape}\")\n",
    "sw_birds_df.head()"
   ],
   "metadata": {
    "collapsed": false
   }
  },
  {
   "cell_type": "markdown",
   "source": [
    "We have retained `sw_birds_all_df` which is the meta DataFrame for (possible) use at a later date"
   ],
   "metadata": {
    "collapsed": false
   }
  },
  {
   "cell_type": "code",
   "execution_count": 186,
   "outputs": [
    {
     "name": "stdout",
     "output_type": "stream",
     "text": [
      "\n",
      "sw_birds_all_df shape: (6504, 16)\n",
      "\n",
      "With columns; \n",
      "['park_code', 'park_name', 'family', 'scientific_name', 'common_names', 'conservation_status', 'protected', 'raptor', 'state', 'acres', 'latitude', 'longitude', 'occurrence', 'nativeness', 'abundance', 'seasonality']\n"
     ]
    }
   ],
   "source": [
    "meta_df_cols = sw_birds_all_df.columns.tolist()\n",
    "print(f\"\\nsw_birds_all_df shape: {sw_birds_all_df.shape}\\n\")\n",
    "print(f\"With columns; \\n{meta_df_cols}\")"
   ],
   "metadata": {
    "collapsed": false
   }
  },
  {
   "cell_type": "markdown",
   "source": [
    "----\n",
    "# Analysis\n"
   ],
   "metadata": {
    "collapsed": false
   }
  },
  {
   "cell_type": "markdown",
   "source": [
    "### `sw_birds_df` inspection\n",
    "\n"
   ],
   "metadata": {
    "collapsed": false
   }
  },
  {
   "cell_type": "code",
   "execution_count": 187,
   "outputs": [
    {
     "name": "stdout",
     "output_type": "stream",
     "text": [
      "We have 23 parks: \n",
      "\n",
      "['Grand Canyon National Park', 'Petrified Forest National Park', 'Saguaro National Park', 'Channel Islands National Park', 'Joshua Tree National Park', 'Lassen Volcanic National Park', 'Pinnacles National Park', 'Redwood National Park', 'Sequoia and Kings Canyon National Parks', 'Yosemite National Park', 'Black Canyon of the Gunnison National Park', 'Great Sand Dunes National Park and Preserve', 'Mesa Verde National Park', 'Rocky Mountain National Park', 'Great Basin National Park', 'Carlsbad Caverns National Park', 'Big Bend National Park', 'Guadalupe Mountains National Park', 'Arches National Park', 'Bryce Canyon National Park', 'Canyonlands National Park', 'Capitol Reef National Park', 'Zion National Park']\n"
     ]
    }
   ],
   "source": [
    "sw_parks_list = sw_birds_df['park_name'].unique().tolist()\n",
    "print(f\"We have {len(sw_parks_list)} parks: \\n\\n{sw_parks_list}\")"
   ],
   "metadata": {
    "collapsed": false
   }
  },
  {
   "cell_type": "markdown",
   "source": [
    "<img src=\"Images/Area_Baja.png\"/>"
   ],
   "metadata": {
    "collapsed": false
   }
  },
  {
   "cell_type": "code",
   "execution_count": 188,
   "outputs": [
    {
     "name": "stdout",
     "output_type": "stream",
     "text": [
      "We have 7 states: \n",
      "\n",
      "['AZ', 'CA', 'CO', 'NM', 'NV', 'TX', 'UT']\n"
     ]
    }
   ],
   "source": [
    "states_list = sw_birds_df['state'].unique().tolist()\n",
    "states_list = sorted(states_list)\n",
    "print(f\"We have {len(states_list)} states: \\n\\n{states_list}\")"
   ],
   "metadata": {
    "collapsed": false
   }
  },
  {
   "cell_type": "markdown",
   "source": [
    "Create separate Dataframes for each state $\\in$ `states_list`."
   ],
   "metadata": {
    "collapsed": false
   }
  },
  {
   "cell_type": "markdown",
   "source": [
    "We iterate through `states_list` to produce summary statistics of the categorical data"
   ],
   "metadata": {
    "collapsed": false
   }
  },
  {
   "cell_type": "code",
   "execution_count": 189,
   "outputs": [
    {
     "name": "stdout",
     "output_type": "stream",
     "text": [
      "\n",
      "\n",
      "AZ:\n",
      "Shape: (946, 12)\n",
      "Summary statistics:\n",
      "                    count unique                         top freq\n",
      "park_code             946      3                        GRCA  456\n",
      "park_name             946      3  Grand Canyon National Park  456\n",
      "family                946     61                 Emberizidae   94\n",
      "scientific_name       946    534          Accipiter cooperii    3\n",
      "common_names          946    469                 Horned Lark    6\n",
      "conservation_status   946      6               Least Concern  765\n",
      "raptor                 93     11                         Owl   32\n",
      "state                 946      1                          AZ  946\n",
      "\n",
      "\n",
      "CA:\n",
      "Shape: (2056, 12)\n",
      "Summary statistics:\n",
      "                    count unique                    top  freq\n",
      "park_code            2056      7                   REDW   494\n",
      "park_name            2056      7  Redwood National Park   494\n",
      "family               2056     68              Parulidae   170\n",
      "scientific_name      2056    630     Accipiter cooperii     7\n",
      "common_names         2056    586                   None    26\n",
      "conservation_status  2056      6          Least Concern  1646\n",
      "raptor                208     11                    Owl    69\n",
      "state                2056      1                     CA  2056\n",
      "\n",
      "\n",
      "CO:\n",
      "Shape: (928, 12)\n",
      "Summary statistics:\n",
      "                    count unique                           top freq\n",
      "park_code             928      4                          ROMO  277\n",
      "park_name             928      4  Rocky Mountain National Park  277\n",
      "family                928     57                   Emberizidae   77\n",
      "scientific_name       928    373            Accipiter cooperii    4\n",
      "common_names          928    389                          None    7\n",
      "conservation_status   928      6                 Least Concern  740\n",
      "raptor                103     11                          Hawk   31\n",
      "state                 928      1                            CO  928\n",
      "\n",
      "\n",
      "NM:\n",
      "Shape: (367, 12)\n",
      "Summary statistics:\n",
      "                    count unique                             top freq\n",
      "park_code             367      1                            CAVE  367\n",
      "park_name             367      1  Carlsbad Caverns National Park  367\n",
      "family                367     55                       Parulidae   46\n",
      "scientific_name       367    367              Accipiter cooperii    1\n",
      "common_names          367    367                   Cooper's Hawk    1\n",
      "conservation_status   367      6                   Least Concern  299\n",
      "raptor                 36      9                            Hawk   14\n",
      "state                 367      1                              NM  367\n",
      "\n",
      "\n",
      "NV:\n",
      "Shape: (329, 12)\n",
      "Summary statistics:\n",
      "                    count unique                        top freq\n",
      "park_code             329      1                       GRBA  329\n",
      "park_name             329      1  Great Basin National Park  329\n",
      "family                329     53                Emberizidae   36\n",
      "scientific_name       329    329     Carduelis pinus vagans    1\n",
      "common_names          329    247                       None   37\n",
      "conservation_status   329      6              Least Concern  278\n",
      "raptor                 29      9                       Hawk   10\n",
      "state                 329      1                         NV  329\n",
      "\n",
      "\n",
      "TX:\n",
      "Shape: (687, 12)\n",
      "Summary statistics:\n",
      "                    count unique                     top freq\n",
      "park_code             687      2                    BIBE  415\n",
      "park_name             687      2  Big Bend National Park  415\n",
      "family                687     60               Parulidae   80\n",
      "scientific_name       687    436      Accipiter cooperii    2\n",
      "common_names          687    430           Cooper's Hawk    2\n",
      "conservation_status   687      6           Least Concern  560\n",
      "raptor                 73     10                    Hawk   27\n",
      "state                 687      1                      TX  687\n",
      "\n",
      "\n",
      "UT:\n",
      "Shape: (1191, 12)\n",
      "Summary statistics:\n",
      "                    count unique                 top  freq\n",
      "park_code            1191      5                ZION   301\n",
      "park_name            1191      5  Zion National Park   301\n",
      "family               1191     57         Emberizidae   105\n",
      "scientific_name      1191    353  Accipiter cooperii     5\n",
      "common_names         1191    333       Cooper's Hawk     5\n",
      "conservation_status  1191      5       Least Concern   942\n",
      "raptor                132      9                 Owl    42\n",
      "state                1191      1                  UT  1191\n"
     ]
    }
   ],
   "source": [
    "d = {}\n",
    "for state in states_list:\n",
    "    d[state] = pd.DataFrame(sw_birds_df[sw_birds_df['state'] == state])\n",
    "\n",
    "for i in range(0, len(states_list)):\n",
    "    print(f\"\\n\\n{states_list[i]}:\\nShape: {d[states_list[i]].shape}\")\n",
    "    categorical_cols = d[states_list[i]].select_dtypes(include=['object']).columns\n",
    "    print(f\"Summary statistics:\\n{d[states_list[i]][categorical_cols].describe().transpose()}\")"
   ],
   "metadata": {
    "collapsed": false
   }
  },
  {
   "cell_type": "markdown",
   "source": [
    "California has the largest representation in `sw_birds_df`"
   ],
   "metadata": {
    "collapsed": false
   }
  },
  {
   "cell_type": "code",
   "execution_count": 190,
   "outputs": [
    {
     "data": {
      "text/plain": "    park_code                      park_name        family  \\\n946      CHIS  Channel Islands National Park  Accipitridae   \n947      CHIS  Channel Islands National Park  Accipitridae   \n948      CHIS  Channel Islands National Park  Accipitridae   \n949      CHIS  Channel Islands National Park  Accipitridae   \n950      CHIS  Channel Islands National Park  Accipitridae   \n\n        scientific_name        common_names conservation_status  protected  \\\n946  Accipiter cooperii       Cooper's Hawk  Species of Concern       True   \n947  Accipiter gentilis    Northern Goshawk       Least Concern      False   \n948  Accipiter striatus  Sharp Shinned Hawk  Species of Concern       True   \n949   Aquila chrysaetos        Golden Eagle  Species of Concern       True   \n950   Buteo jamaicensis     Red Tailed Hawk       Least Concern      False   \n\n    raptor state   acres  latitude  longitude  \n946   Hawk    CA  249561     34.01    -119.42  \n947   Hawk    CA  249561     34.01    -119.42  \n948   Hawk    CA  249561     34.01    -119.42  \n949  Eagle    CA  249561     34.01    -119.42  \n950   Hawk    CA  249561     34.01    -119.42  ",
      "text/html": "<div>\n<style scoped>\n    .dataframe tbody tr th:only-of-type {\n        vertical-align: middle;\n    }\n\n    .dataframe tbody tr th {\n        vertical-align: top;\n    }\n\n    .dataframe thead th {\n        text-align: right;\n    }\n</style>\n<table border=\"1\" class=\"dataframe\">\n  <thead>\n    <tr style=\"text-align: right;\">\n      <th></th>\n      <th>park_code</th>\n      <th>park_name</th>\n      <th>family</th>\n      <th>scientific_name</th>\n      <th>common_names</th>\n      <th>conservation_status</th>\n      <th>protected</th>\n      <th>raptor</th>\n      <th>state</th>\n      <th>acres</th>\n      <th>latitude</th>\n      <th>longitude</th>\n    </tr>\n  </thead>\n  <tbody>\n    <tr>\n      <th>946</th>\n      <td>CHIS</td>\n      <td>Channel Islands National Park</td>\n      <td>Accipitridae</td>\n      <td>Accipiter cooperii</td>\n      <td>Cooper's Hawk</td>\n      <td>Species of Concern</td>\n      <td>True</td>\n      <td>Hawk</td>\n      <td>CA</td>\n      <td>249561</td>\n      <td>34.01</td>\n      <td>-119.42</td>\n    </tr>\n    <tr>\n      <th>947</th>\n      <td>CHIS</td>\n      <td>Channel Islands National Park</td>\n      <td>Accipitridae</td>\n      <td>Accipiter gentilis</td>\n      <td>Northern Goshawk</td>\n      <td>Least Concern</td>\n      <td>False</td>\n      <td>Hawk</td>\n      <td>CA</td>\n      <td>249561</td>\n      <td>34.01</td>\n      <td>-119.42</td>\n    </tr>\n    <tr>\n      <th>948</th>\n      <td>CHIS</td>\n      <td>Channel Islands National Park</td>\n      <td>Accipitridae</td>\n      <td>Accipiter striatus</td>\n      <td>Sharp Shinned Hawk</td>\n      <td>Species of Concern</td>\n      <td>True</td>\n      <td>Hawk</td>\n      <td>CA</td>\n      <td>249561</td>\n      <td>34.01</td>\n      <td>-119.42</td>\n    </tr>\n    <tr>\n      <th>949</th>\n      <td>CHIS</td>\n      <td>Channel Islands National Park</td>\n      <td>Accipitridae</td>\n      <td>Aquila chrysaetos</td>\n      <td>Golden Eagle</td>\n      <td>Species of Concern</td>\n      <td>True</td>\n      <td>Eagle</td>\n      <td>CA</td>\n      <td>249561</td>\n      <td>34.01</td>\n      <td>-119.42</td>\n    </tr>\n    <tr>\n      <th>950</th>\n      <td>CHIS</td>\n      <td>Channel Islands National Park</td>\n      <td>Accipitridae</td>\n      <td>Buteo jamaicensis</td>\n      <td>Red Tailed Hawk</td>\n      <td>Least Concern</td>\n      <td>False</td>\n      <td>Hawk</td>\n      <td>CA</td>\n      <td>249561</td>\n      <td>34.01</td>\n      <td>-119.42</td>\n    </tr>\n  </tbody>\n</table>\n</div>"
     },
     "execution_count": 190,
     "metadata": {},
     "output_type": "execute_result"
    }
   ],
   "source": [
    "# We can call DataFrames for each state using below syntax\n",
    "# For Example, California:\n",
    "d['CA'].head()"
   ],
   "metadata": {
    "collapsed": false
   }
  },
  {
   "cell_type": "markdown",
   "source": [
    "#### We performed extension data wrangling on raptor species whilst neglecting non-raptors.\n",
    "Need to find rows where `common_names` is 'None'. These will be removed from the dataset"
   ],
   "metadata": {
    "collapsed": false
   }
  },
  {
   "cell_type": "code",
   "execution_count": 191,
   "outputs": [
    {
     "name": "stdout",
     "output_type": "stream",
     "text": [
      "State: AZ, NaN Count: 4\n",
      "State: CA, NaN Count: 26\n",
      "State: CO, NaN Count: 7\n",
      "State: NV, NaN Count: 37\n"
     ]
    }
   ],
   "source": [
    "com_name_none = sw_birds_df[sw_birds_df['common_names'] == 'None']\n",
    "com_name_none_grouped = com_name_nan.groupby('state').size().reset_index(name='count')\n",
    "\n",
    "for state in states_list:\n",
    "    state_rows = com_name_none_grouped[com_name_none_grouped['state'] == state]\n",
    "    if len(state_rows) > 0:\n",
    "        print(f\"State: {state}, NaN Count: {state_rows['count'].values[0]}\")"
   ],
   "metadata": {
    "collapsed": false
   }
  },
  {
   "cell_type": "code",
   "execution_count": 192,
   "outputs": [
    {
     "data": {
      "text/plain": "     park_code                   park_name          family  \\\n295       GRCA  Grand Canyon National Park       Parulidae   \n401       GRCA  Grand Canyon National Park      Vireonidae   \n404       GRCA  Grand Canyon National Park      Vireonidae   \n918       SAGU       Saguaro National Park         Picidae   \n1378      JOTR   Joshua Tree National Park    Scolopacidae   \n2019      REDW       Redwood National Park         No Data   \n2021      REDW       Redwood National Park  Odontophoridae   \n2058      REDW       Redwood National Park        Anatidae   \n2071      REDW       Redwood National Park        Anatidae   \n2101      REDW       Redwood National Park         Alcidae   \n\n                         scientific_name common_names conservation_status  \\\n295          Leiothlypis celata orestera         None       Least Concern   \n401            Vireo olivaceus olivaceus         None       Least Concern   \n404              Vireo plumbeus plumbeus         None       Least Concern   \n918               Colaptes auratus cafer         None       Least Concern   \n1378                  Tringa semipalmata         None       Least Concern   \n2019                  Erolia ptilochemis         None       Least Concern   \n2021                    Lophortyx pictus         None       Least Concern   \n2058                    Branta nigricans         None       Least Concern   \n2071                    Mareca americana         None       Least Concern   \n2101  Brachyramphus marmoratus maroratum         None       Least Concern   \n\n      protected raptor state    acres  latitude  longitude  \n295       False    NaN    AZ  1217403     36.06    -112.14  \n401       False    NaN    AZ  1217403     36.06    -112.14  \n404       False    NaN    AZ  1217403     36.06    -112.14  \n918       False    NaN    AZ    91440     32.25    -110.50  \n1378      False    NaN    CA   789745     33.79    -115.90  \n2019      False    NaN    CA   112512     41.30    -124.00  \n2021      False    NaN    CA   112512     41.30    -124.00  \n2058      False    NaN    CA   112512     41.30    -124.00  \n2071      False    NaN    CA   112512     41.30    -124.00  \n2101      False    NaN    CA   112512     41.30    -124.00  ",
      "text/html": "<div>\n<style scoped>\n    .dataframe tbody tr th:only-of-type {\n        vertical-align: middle;\n    }\n\n    .dataframe tbody tr th {\n        vertical-align: top;\n    }\n\n    .dataframe thead th {\n        text-align: right;\n    }\n</style>\n<table border=\"1\" class=\"dataframe\">\n  <thead>\n    <tr style=\"text-align: right;\">\n      <th></th>\n      <th>park_code</th>\n      <th>park_name</th>\n      <th>family</th>\n      <th>scientific_name</th>\n      <th>common_names</th>\n      <th>conservation_status</th>\n      <th>protected</th>\n      <th>raptor</th>\n      <th>state</th>\n      <th>acres</th>\n      <th>latitude</th>\n      <th>longitude</th>\n    </tr>\n  </thead>\n  <tbody>\n    <tr>\n      <th>295</th>\n      <td>GRCA</td>\n      <td>Grand Canyon National Park</td>\n      <td>Parulidae</td>\n      <td>Leiothlypis celata orestera</td>\n      <td>None</td>\n      <td>Least Concern</td>\n      <td>False</td>\n      <td>NaN</td>\n      <td>AZ</td>\n      <td>1217403</td>\n      <td>36.06</td>\n      <td>-112.14</td>\n    </tr>\n    <tr>\n      <th>401</th>\n      <td>GRCA</td>\n      <td>Grand Canyon National Park</td>\n      <td>Vireonidae</td>\n      <td>Vireo olivaceus olivaceus</td>\n      <td>None</td>\n      <td>Least Concern</td>\n      <td>False</td>\n      <td>NaN</td>\n      <td>AZ</td>\n      <td>1217403</td>\n      <td>36.06</td>\n      <td>-112.14</td>\n    </tr>\n    <tr>\n      <th>404</th>\n      <td>GRCA</td>\n      <td>Grand Canyon National Park</td>\n      <td>Vireonidae</td>\n      <td>Vireo plumbeus plumbeus</td>\n      <td>None</td>\n      <td>Least Concern</td>\n      <td>False</td>\n      <td>NaN</td>\n      <td>AZ</td>\n      <td>1217403</td>\n      <td>36.06</td>\n      <td>-112.14</td>\n    </tr>\n    <tr>\n      <th>918</th>\n      <td>SAGU</td>\n      <td>Saguaro National Park</td>\n      <td>Picidae</td>\n      <td>Colaptes auratus cafer</td>\n      <td>None</td>\n      <td>Least Concern</td>\n      <td>False</td>\n      <td>NaN</td>\n      <td>AZ</td>\n      <td>91440</td>\n      <td>32.25</td>\n      <td>-110.50</td>\n    </tr>\n    <tr>\n      <th>1378</th>\n      <td>JOTR</td>\n      <td>Joshua Tree National Park</td>\n      <td>Scolopacidae</td>\n      <td>Tringa semipalmata</td>\n      <td>None</td>\n      <td>Least Concern</td>\n      <td>False</td>\n      <td>NaN</td>\n      <td>CA</td>\n      <td>789745</td>\n      <td>33.79</td>\n      <td>-115.90</td>\n    </tr>\n    <tr>\n      <th>2019</th>\n      <td>REDW</td>\n      <td>Redwood National Park</td>\n      <td>No Data</td>\n      <td>Erolia ptilochemis</td>\n      <td>None</td>\n      <td>Least Concern</td>\n      <td>False</td>\n      <td>NaN</td>\n      <td>CA</td>\n      <td>112512</td>\n      <td>41.30</td>\n      <td>-124.00</td>\n    </tr>\n    <tr>\n      <th>2021</th>\n      <td>REDW</td>\n      <td>Redwood National Park</td>\n      <td>Odontophoridae</td>\n      <td>Lophortyx pictus</td>\n      <td>None</td>\n      <td>Least Concern</td>\n      <td>False</td>\n      <td>NaN</td>\n      <td>CA</td>\n      <td>112512</td>\n      <td>41.30</td>\n      <td>-124.00</td>\n    </tr>\n    <tr>\n      <th>2058</th>\n      <td>REDW</td>\n      <td>Redwood National Park</td>\n      <td>Anatidae</td>\n      <td>Branta nigricans</td>\n      <td>None</td>\n      <td>Least Concern</td>\n      <td>False</td>\n      <td>NaN</td>\n      <td>CA</td>\n      <td>112512</td>\n      <td>41.30</td>\n      <td>-124.00</td>\n    </tr>\n    <tr>\n      <th>2071</th>\n      <td>REDW</td>\n      <td>Redwood National Park</td>\n      <td>Anatidae</td>\n      <td>Mareca americana</td>\n      <td>None</td>\n      <td>Least Concern</td>\n      <td>False</td>\n      <td>NaN</td>\n      <td>CA</td>\n      <td>112512</td>\n      <td>41.30</td>\n      <td>-124.00</td>\n    </tr>\n    <tr>\n      <th>2101</th>\n      <td>REDW</td>\n      <td>Redwood National Park</td>\n      <td>Alcidae</td>\n      <td>Brachyramphus marmoratus maroratum</td>\n      <td>None</td>\n      <td>Least Concern</td>\n      <td>False</td>\n      <td>NaN</td>\n      <td>CA</td>\n      <td>112512</td>\n      <td>41.30</td>\n      <td>-124.00</td>\n    </tr>\n  </tbody>\n</table>\n</div>"
     },
     "execution_count": 192,
     "metadata": {},
     "output_type": "execute_result"
    }
   ],
   "source": [
    "com_name_none.head(10)"
   ],
   "metadata": {
    "collapsed": false
   }
  },
  {
   "cell_type": "code",
   "execution_count": 193,
   "outputs": [
    {
     "name": "stdout",
     "output_type": "stream",
     "text": [
      "Empty DataFrame\n",
      "Columns: [park_code, park_name, family, scientific_name, common_names, conservation_status, protected, raptor, state, acres, latitude, longitude]\n",
      "Index: []\n"
     ]
    }
   ],
   "source": [
    "sw_birds_df = sw_birds_df[sw_birds_df['common_names'] != 'None']\n",
    "\n",
    "count = sw_birds_df[sw_birds_df['common_names'] == 'None']\n",
    "print(count)"
   ],
   "metadata": {
    "collapsed": false
   }
  }
 ],
 "metadata": {
  "kernelspec": {
   "display_name": "Python 3",
   "language": "python",
   "name": "python3"
  },
  "language_info": {
   "codemirror_mode": {
    "name": "ipython",
    "version": 2
   },
   "file_extension": ".py",
   "mimetype": "text/x-python",
   "name": "python",
   "nbconvert_exporter": "python",
   "pygments_lexer": "ipython2",
   "version": "2.7.6"
  }
 },
 "nbformat": 4,
 "nbformat_minor": 0
}
